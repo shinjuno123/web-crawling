{
 "cells": [
  {
   "cell_type": "markdown",
   "metadata": {},
   "source": [
    "## 5. 두개 집합의 A={1,2} B={1,3}이 있을 경우 곱집합 A X B 를 구하는 프로그램을 작성하시오. 이것을 활용하여 두개의 주사위를 던졌을 때 나오는 모든 경우의 수와 각각의 경우에 대한 합을 구하는 프로그램을 작성해보시오"
   ]
  },
  {
   "cell_type": "code",
   "execution_count": 4,
   "metadata": {},
   "outputs": [
    {
     "name": "stdout",
     "output_type": "stream",
     "text": [
      "{(1, 3), (2, 3), (1, 1), (2, 1)}\n",
      "\n",
      "{(1, 3), (6, 6), (5, 6), (2, 1), (6, 2), (1, 6), (5, 1), (2, 5), (1, 2), (3, 3), (5, 5), (4, 4), (6, 3), (1, 5), (3, 6), (2, 2), (3, 4), (4, 1), (1, 1), (6, 4), (3, 2), (2, 6), (5, 4), (4, 5), (1, 4), (2, 3), (4, 2), (6, 5), (3, 5), (5, 3), (4, 6), (6, 1), (3, 1), (4, 3), (5, 2), (2, 4)}\n",
      "\n",
      "{2, 3, 4, 5, 6, 7, 8, 9, 10, 11, 12}\n",
      "\n",
      "{2, 3, 4, 5, 6, 7, 8, 9, 10, 11, 12}\n"
     ]
    }
   ],
   "source": [
    "a = {1,2} ; b = {1,3}\n",
    "result = set()\n",
    "\n",
    "\n",
    "for i in a:\n",
    "    for j in b:\n",
    "        #result = result | {(i,j)}\n",
    "        result = result.union({(i,j)})\n",
    "print(result)\n",
    "print()\n",
    "\n",
    "\n",
    "\n",
    "a = {1,2,3,4,5,6} ; b = {1,2,3,4,5,6}\n",
    "result = set()\n",
    "\n",
    "\n",
    "for i in a:\n",
    "    for j in b:\n",
    "        result = result | {(i,j)}\n",
    "        #result = result.union({(i,j)})\n",
    "print(result)\n",
    "print()\n",
    "\n",
    "result_sum = set()\n",
    "for u in result:\n",
    "    result_sum.add(sum(u))\n",
    "\n",
    "print(result_sum)\n",
    "\n",
    "print()\n",
    "\n",
    "result_sum = set()\n",
    "for u in result:\n",
    "    result_sum.add(u[0]+u[1])\n",
    "\n",
    "print(result_sum)"
   ]
  },
  {
   "cell_type": "markdown",
   "metadata": {},
   "source": [
    "## 6.(리스트 컴프리헨션과 zip()함수) 다음 프로그램의 결과를 예측해보시오"
   ]
  },
  {
   "cell_type": "code",
   "execution_count": 23,
   "metadata": {},
   "outputs": [
    {
     "name": "stdout",
     "output_type": "stream",
     "text": [
      "[0, 1, 2, 3, 4, 5]\n",
      "\n",
      "[0, 1, 2, 3, 4, 5]\n",
      "[0, 1, 4, 9, 16, 25]\n",
      "[3, 6, 9, 12, 15, 18, 21, 24, 27, 30, 33, 36, 39, 42, 45, 48, 51, 54, 57, 60, 63, 66, 69, 72, 75, 78, 81, 84, 87, 90, 93, 96, 99]\n",
      "[100, 100, 8, 100, 100, 11, 100, 100, 14, 100, 100, 17, 100, 100, 20, 100, 100, 23, 100]\n",
      "[5, 6, 7, 6, 7, 8, 7, 8, 9]\n",
      "['hw', 'ho', 'hr', 'hl', 'hd', 'ew', 'eo', 'er', 'el', 'ed', 'lw', 'lo', 'lr', 'll', 'ld', 'lw', 'lo', 'lr', 'll', 'ld', 'ow', 'oo', 'or', 'ol', 'od']\n",
      "[['ad', 'bd', 'cd'], ['ae', 'be', 'ce'], ['af', 'bf', 'cf']]\n",
      "[(1, 3, 5), (2, 4, 6)]\n",
      "(1, 3, 5)\n",
      "(2, 4, 6)\n"
     ]
    }
   ],
   "source": [
    "num = []\n",
    "for i in range(5+1):\n",
    "    num.append(i)\n",
    "print(num)\n",
    "\n",
    "print()\n",
    "\n",
    "res = [i for i in range(6)]\n",
    "res1 = [i * i for i in range(6)]\n",
    "print(res)\n",
    "print(res1)\n",
    "\n",
    "s = [i for i in range(1,100)if i % 3 == 0] ;print(s)\n",
    "s = [i+5 if i%3 == 0 else 100 for i in range(1,20)] ;print(s)\n",
    "\n",
    "s1 = [1,2,3]; s2 = [4,5,6]; s3 = [i+j for i in s1 for j in s2]; print(s3)\n",
    "word1 = 'hello'; word2 = 'world' ; word = [i+j for i in word1 for j in word2]; print(word)\n",
    "s1 = ['a','b','c']; s2 = ['d','e','f']; s3 = [ [i+j for i in s1] for j in s2]; print(s3)\n",
    "\n",
    "\n",
    "s1 = [1,2]\n",
    "s2 = [3,4]\n",
    "s3 = [5,6]\n",
    "r = list(zip(s1,s2,s3))\n",
    "print(r)\n",
    "\n",
    "\n",
    "for a,b,c in zip(s1,s2,s3):\n",
    "    print((a,b,c))"
   ]
  },
  {
   "cell_type": "markdown",
   "metadata": {},
   "source": [
    "## 7. 16진수 10개를 랜덤하게 생성하고, 오름차순으로 정렬하여 출력하는 프로그램을 작성하시오"
   ]
  },
  {
   "cell_type": "code",
   "execution_count": 46,
   "metadata": {},
   "outputs": [
    {
     "name": "stdout",
     "output_type": "stream",
     "text": [
      "['0x20', '0x13', '0x1a', '0x23', '0xa', '0x2f', '0x5a', '0x4b', '0x1', '0x56']\n",
      "['0x1', '0xa', '0x13', '0x1a', '0x20', '0x23', '0x2f', '0x4b', '0x56', '0x5a']\n"
     ]
    }
   ],
   "source": [
    "import random\n",
    "data = []\n",
    "for i in range(10):\n",
    "    tmp = hex(random.randrange(1,100))\n",
    "    data.append(tmp)\n",
    "print(data)\n",
    "\n",
    "\n",
    "\n",
    "\n",
    "#for i in range(len(data)-1):\n",
    "#    for j in range(i+1,len(data)):\n",
    "#        if(int(data[i],16) > int(data[j],16)):\n",
    "#            #data[i],data[j] = data[j],data[i]\n",
    "#            tmp = data[i]\n",
    "#            data[i] = data[j]\n",
    "#            data[j] = tmp\n",
    "print(data)"
   ]
  },
  {
   "cell_type": "markdown",
   "metadata": {},
   "source": [
    "## 8.(문자열 변수)다음 프로그램의 결과를 예측해보시오"
   ]
  },
  {
   "cell_type": "code",
   "execution_count": 57,
   "metadata": {},
   "outputs": [
    {
     "name": "stdout",
     "output_type": "stream",
     "text": [
      "파 이\n",
      "파이썬 \n",
      " 파이썬 프로그램 \n",
      " 연습\n",
      "11\n",
      "\n",
      "HELLO \t hello \t HELLO\n",
      "\n",
      "2\n",
      "4\n",
      "21\n",
      "21\n",
      "-1\n",
      "\n",
      "4\n",
      "21\n",
      "21\n",
      "\n",
      "True\n",
      "False\n"
     ]
    }
   ],
   "source": [
    "s = '파이썬 프로그램 연습' ;  print(s[0],s[1]); print(s[0:3],'\\n',s[:8],'\\n',s[9:])\n",
    "print(len(s)) ; print()\n",
    "\n",
    "s1 = 'hello' ;s2 = s1.upper() ; s3 = s1.lower(); s4= s1.swapcase();print(s2,'\\t',s3,'\\t',s4)\n",
    "print()\n",
    "\n",
    "ss = '파이썬 프로그램 연습을 통하여 파이썬 프로그램 작성 실력이 향상 될 수 있습니다.'\n",
    "\n",
    "print(ss.count('파이썬'))\n",
    "print(ss.find('프로그램')) ; print(ss.rfind('프로그램')); print(ss.find('프로그램',5));print(ss.find('c++'))\n",
    "print()\n",
    "print(ss.index('프로그램')) ; print(ss.rindex('프로그램')); print(ss.index('프로그램',5));#print(ss.index('c++'))\n",
    "print()\n",
    "print(ss.startswith('파이썬'));print(ss.endswith('다'))"
   ]
  },
  {
   "cell_type": "markdown",
   "metadata": {},
   "source": [
    "## 9.사용자가 입력한 문자열에서 숫자, 영문 대소문자, 한글, 기타 문자의 개수를 세는 프로그램을 작성하시오"
   ]
  },
  {
   "cell_type": "code",
   "execution_count": 65,
   "metadata": {},
   "outputs": [
    {
     "name": "stdout",
     "output_type": "stream",
     "text": [
      "문자열을 입력하세요 : sdasdas FFF ad 2381983 ㄻㄴ어ㅣㅏ정\n",
      "65\n",
      "대문자 :  3 소문자 9 숫자: 7 한글 2 기타 8\n"
     ]
    }
   ],
   "source": [
    "data = input('문자열을 입력하세요 : ')\n",
    "\n",
    "upper_count = 0\n",
    "lower_count = 0\n",
    "number_count = 0\n",
    "hangul_count = 0\n",
    "etc = 0\n",
    "print(ord('A'))\n",
    "for ch in data:\n",
    "    if(ord(ch) >= ord('A') and ord(ch) <= ord('Z')):\n",
    "        upper_count = upper_count + 1\n",
    "    elif(ord(ch) >= ord('a') and ord(ch) <= ord('z')):\n",
    "        lower_count = lower_count+1\n",
    "    elif(ord(ch) >= ord('0') and ord(ch)<= ord('9')):\n",
    "        number_count = number_count +1\n",
    "    elif(ord(ch) >= ord('가') and ord(ch)<=ord('힣')):\n",
    "        hangul_count = hangul_count +1\n",
    "    else:\n",
    "        etc = etc + 1\n",
    "\n",
    "print('대문자 : ',upper_count,'소문자',lower_count,'숫자:',number_count,'한글',hangul_count,'기타',etc)"
   ]
  },
  {
   "cell_type": "markdown",
   "metadata": {},
   "source": [
    "## 10. string 모듈에 정의된 ascii_uppercase는 알파벳 대문자의 목록이 들어있다. 이 문자열 목록과 문자열 슬라이싱 기능을 사용하여 다음과 같은 텍스트를 출력하여라"
   ]
  },
  {
   "cell_type": "code",
   "execution_count": 67,
   "metadata": {},
   "outputs": [
    {
     "name": "stdout",
     "output_type": "stream",
     "text": [
      "ABCDEFGHIJKLMNOPQRSTUVWXYZ\n",
      "ABCDEFGHIJKLMNOPQRSTUVWXYZ\n",
      "BCDEFGHIJKLMNOPQRSTUVWXYZA\n",
      "CDEFGHIJKLMNOPQRSTUVWXYZAB\n",
      "DEFGHIJKLMNOPQRSTUVWXYZABC\n",
      "EFGHIJKLMNOPQRSTUVWXYZABCD\n",
      "FGHIJKLMNOPQRSTUVWXYZABCDE\n",
      "GHIJKLMNOPQRSTUVWXYZABCDEF\n",
      "HIJKLMNOPQRSTUVWXYZABCDEFG\n",
      "IJKLMNOPQRSTUVWXYZABCDEFGH\n",
      "JKLMNOPQRSTUVWXYZABCDEFGHI\n",
      "KLMNOPQRSTUVWXYZABCDEFGHIJ\n",
      "LMNOPQRSTUVWXYZABCDEFGHIJK\n",
      "MNOPQRSTUVWXYZABCDEFGHIJKL\n",
      "NOPQRSTUVWXYZABCDEFGHIJKLM\n",
      "OPQRSTUVWXYZABCDEFGHIJKLMN\n",
      "PQRSTUVWXYZABCDEFGHIJKLMNO\n",
      "QRSTUVWXYZABCDEFGHIJKLMNOP\n",
      "RSTUVWXYZABCDEFGHIJKLMNOPQ\n",
      "STUVWXYZABCDEFGHIJKLMNOPQR\n",
      "TUVWXYZABCDEFGHIJKLMNOPQRS\n",
      "UVWXYZABCDEFGHIJKLMNOPQRST\n",
      "VWXYZABCDEFGHIJKLMNOPQRSTU\n",
      "WXYZABCDEFGHIJKLMNOPQRSTUV\n",
      "XYZABCDEFGHIJKLMNOPQRSTUVW\n",
      "YZABCDEFGHIJKLMNOPQRSTUVWX\n",
      "ZABCDEFGHIJKLMNOPQRSTUVWXY\n"
     ]
    }
   ],
   "source": [
    "import string\n",
    "st = string.ascii_uppercase\n",
    "print(st)\n",
    "\n",
    "for i in range(26):\n",
    "    s = st[i:] + st[:i] #  i = 1 st[2: ] st[:1]\n",
    "    print(s)"
   ]
  },
  {
   "cell_type": "markdown",
   "metadata": {},
   "source": [
    "## 11.어떤 문자열을 뒤집었을 때에 원래의 문자열과 같은 것을 회문(palindrome)이라고 한다. 예를 들어 'mom'은 문자를 뒤집어도 'mom'이 되므로 회문이다. 어떤 문자열을 입력하면 이 문자열이 회문인지 아닌지 검사하는 코드를 작성하라."
   ]
  },
  {
   "cell_type": "code",
   "execution_count": 72,
   "metadata": {},
   "outputs": [
    {
     "name": "stdout",
     "output_type": "stream",
     "text": [
      "문자열을 입력하세요 : a nut for a jar of tuna\n",
      "회문입니다.\n"
     ]
    }
   ],
   "source": [
    "string = input('문자열을 입력하세요 : ')\n",
    "\n",
    "string = string.upper()\n",
    "string = string.replace(' ','')\n",
    "l = len(string)\n",
    "\n",
    "result = True\n",
    "for i in range(l):\n",
    "    if string[i] is not string[l-1-i]:\n",
    "        result = False\n",
    "    else:\n",
    "        result = True\n",
    "if(result is True):\n",
    "    print('회문입니다.')\n",
    "else:\n",
    "    print('회문이 아닙니다.')\n",
    "    "
   ]
  }
 ],
 "metadata": {
  "kernelspec": {
   "display_name": "Python 3",
   "language": "python",
   "name": "python3"
  },
  "language_info": {
   "codemirror_mode": {
    "name": "ipython",
    "version": 3
   },
   "file_extension": ".py",
   "mimetype": "text/x-python",
   "name": "python",
   "nbconvert_exporter": "python",
   "pygments_lexer": "ipython3",
   "version": "3.7.6"
  }
 },
 "nbformat": 4,
 "nbformat_minor": 4
}
