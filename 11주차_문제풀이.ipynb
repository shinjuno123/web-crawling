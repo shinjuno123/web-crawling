{
 "cells": [
  {
   "cell_type": "markdown",
   "metadata": {},
   "source": [
    "## 1.(함수 호출 방식) 아래의 개념들에 대해서 예를 설명해보시오."
   ]
  },
  {
   "cell_type": "code",
   "execution_count": 22,
   "metadata": {},
   "outputs": [
    {
     "name": "stdout",
     "output_type": "stream",
     "text": [
      "함수 밖 =  i love Mackie\n",
      "함수 밖 =  20\n"
     ]
    }
   ],
   "source": [
    "#def f1(x,y):\n",
    "#    print('함수 f1 : x = ',x,'y = ',y)\n",
    "#    x = 10; y = 20\n",
    "#    print('함수 f1 : x = ',x,'y = ',y)\n",
    "# 값에의 한 호출 방식\n",
    "#a = 100 ; b = 200\n",
    "#print('함수 밖 : a = ',a,'b = ',b)\n",
    "#f1(100,200)\n",
    "#print('함수 밖 : a = ',a,'b = ',b)\n",
    "\n",
    "def f2(t): #매개변수로써 리스트나 튜플이나 딕셔너리나 세트 전달 시 참조에 의한 호출이됨\n",
    "    print('함수 f2 t = ',t)\n",
    "    t = [10,20] # 데이터 변경시 계산결과기 li에 반영되지 않는다.\n",
    "#   t.append(5)\n",
    "#   t.remove(2)\n",
    "\n",
    "#li = [2,3,4]\n",
    "#print('함수 밖 : li = ',li)\n",
    "#f2(li)\n",
    "#print('함수 밖 : li = ',li)\n",
    "#참조에 의한 호출\n",
    "\n",
    "def f3(t):\n",
    "    global s      # global s 전역변수 s\n",
    "    s = 'i love Mackie'\n",
    "    t = 30\n",
    "#    k = 20 #지역변수\n",
    "#    print(k)\n",
    "\n",
    "t = 20 # 전역변수\n",
    "s = 'i love python' #전역변수\n",
    "f3(t)\n",
    "\n",
    "print('함수 밖 = ',s)\n",
    "print('함수 밖 = ',t)"
   ]
  },
  {
   "cell_type": "markdown",
   "metadata": {},
   "source": [
    "## 2.(함수 인수를 사용하는 방식)아래의 개념들에 대해서 예를 들어 설명해보시오."
   ]
  },
  {
   "cell_type": "code",
   "execution_count": 46,
   "metadata": {},
   "outputs": [
    {
     "name": "stdout",
     "output_type": "stream",
     "text": [
      "{'x': 3, 'y': 4, 'z': 5}\n",
      "dict_keys(['x', 'y', 'z'])\n",
      "dict_values([3, 4, 5])\n",
      "dict_items([('x', 3), ('y', 4), ('z', 5)])\n",
      "x 3\n",
      "y 4\n",
      "z 5\n",
      "{'x': 3, 'y': 4, 'z': 5, 'u': 7}\n",
      "dict_keys(['x', 'y', 'z', 'u'])\n",
      "dict_values([3, 4, 5, 7])\n",
      "dict_items([('x', 3), ('y', 4), ('z', 5), ('u', 7)])\n",
      "x 3\n",
      "y 4\n",
      "z 5\n",
      "u 7\n"
     ]
    }
   ],
   "source": [
    "#def hap(a,b):\n",
    "#    print(a,'+', b,'=',a+b)\n",
    "#    \n",
    "#hap(3,5)\n",
    "#hap(b = 5 , a = 20)\n",
    "\n",
    "#def hap(a=10,b=5):\n",
    "#    print(a,'+', b,'=',a+b)\n",
    "#\n",
    "#hap(10,20)\n",
    "#hap(30)\n",
    "#hap()\n",
    "#hap(40,50)\n",
    "\n",
    "#def hap(*t): # * <- t의 원소의 개수가 몇개가 들어와도 좋다.\n",
    "##   print(t)\n",
    "#    sum = 0\n",
    "#    for i in t:\n",
    "#        sum = sum + i\n",
    "#    return sum\n",
    "#\n",
    "#print(hap(1,2))\n",
    "#print(hap(1,2,3,4,5))\n",
    "#print(hap(1,2,3,4,5,6,7,8,9,10))\n",
    "\n",
    "def kwtest(**a):\n",
    "    print(a)\n",
    "    print(a.keys())\n",
    "    print(a.values())\n",
    "    print(a.items())\n",
    "    \n",
    "    for (i,v) in list(a.items()):\n",
    "        print(i,v)\n",
    "\n",
    "kwtest(x=3,y=4,z=5)\n",
    "kwtest(x=3,y=4,z=5,u=7)"
   ]
  },
  {
   "cell_type": "markdown",
   "metadata": {},
   "source": [
    "## 3. 재귀함수를 이용하여 피보나시 수열을 구하시오"
   ]
  },
  {
   "cell_type": "markdown",
   "metadata": {},
   "source": [
    "0,1,1,2,3,5,8,13,21,34,55,89,144,233,377,610,987"
   ]
  },
  {
   "cell_type": "code",
   "execution_count": 12,
   "metadata": {},
   "outputs": [
    {
     "name": "stdout",
     "output_type": "stream",
     "text": [
      "파보나시 수열 항의 개수 : 100\n",
      "0 1 1 2 3 5 8 13 21 34 55 89 144 233 377 610 987 1597 2584 4181 6765 10946 17711 28657 46368 75025 121393 196418 317811 514229 832040 1346269 2178309 3524578 5702887 9227465 14930352 24157817 39088169 63245986 102334155 165580141 267914296 433494437 701408733 1134903170 1836311903 2971215073 4807526976 7778742049 12586269025 20365011074 32951280099 53316291173 86267571272 139583862445 225851433717 365435296162 591286729879 956722026041 1548008755920 2504730781961 4052739537881 6557470319842 10610209857723 17167680177565 27777890035288 44945570212853 72723460248141 117669030460994 190392490709135 308061521170129 498454011879264 806515533049393 1304969544928657 2111485077978050 3416454622906707 5527939700884757 8944394323791464 14472334024676221 23416728348467685 37889062373143906 61305790721611591 99194853094755497 160500643816367088 259695496911122585 420196140727489673 679891637638612258 1100087778366101931 1779979416004714189 2880067194370816120 4660046610375530309 7540113804746346429 12200160415121876738 19740274219868223167 31940434634990099905 51680708854858323072 83621143489848422977 135301852344706746049 218922995834555169026 \n"
     ]
    }
   ],
   "source": [
    "def fibo_iteration(n):\n",
    "    if n >= 2:\n",
    "        before = 0 ; after = 1\n",
    "        for i in  range(n-1):\n",
    "            before , after = after , before + after\n",
    "        return after\n",
    "    else :\n",
    "        return n\n",
    "\n",
    "def fibo_recursive(n):\n",
    "    if n >= 2:\n",
    "        return fibo_recursive(n-1) + fibo_recursive(n-2)\n",
    "    else:\n",
    "        return n\n",
    "        \n",
    "\n",
    "num = int(input('파보나시 수열 항의 개수 : '))\n",
    "\n",
    "\n",
    "for i in range(0,num):\n",
    "    print(fibo_iteration(i),end=' ')\n",
    "print()    \n",
    "\n",
    "\n",
    "#for i in range(0,num):\n",
    "#    print(fibo_recursive(i),end=' ')\n",
    "#print()    \n"
   ]
  },
  {
   "cell_type": "markdown",
   "metadata": {},
   "source": [
    "### 4.문자와 숫자가 섞여 있는 16진수 데이타를 임의로 10개 만들고,만들어진 16진수에서 문자를 제외한 숫자를 기준으로 오름차순으로 데이타를 정렬하는 프로그램을 작성하시오"
   ]
  },
  {
   "cell_type": "code",
   "execution_count": null,
   "metadata": {},
   "outputs": [],
   "source": []
  },
  {
   "cell_type": "markdown",
   "metadata": {},
   "source": [
    "### 5.(time,datetime패키지 사용법) 입력한 날짜에서 현재 날짜까지 며칠이 지났는지 날짜 수를 계산하는 프로그램을 작성하시오"
   ]
  },
  {
   "cell_type": "code",
   "execution_count": null,
   "metadata": {},
   "outputs": [],
   "source": []
  }
 ],
 "metadata": {
  "kernelspec": {
   "display_name": "Python 3",
   "language": "python",
   "name": "python3"
  },
  "language_info": {
   "codemirror_mode": {
    "name": "ipython",
    "version": 3
   },
   "file_extension": ".py",
   "mimetype": "text/x-python",
   "name": "python",
   "nbconvert_exporter": "python",
   "pygments_lexer": "ipython3",
   "version": "3.7.6"
  }
 },
 "nbformat": 4,
 "nbformat_minor": 4
}
