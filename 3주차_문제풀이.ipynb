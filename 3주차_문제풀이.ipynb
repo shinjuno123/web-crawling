{
 "cells": [
  {
   "cell_type": "markdown",
   "metadata": {},
   "source": [
    "##### 1. (문자열 출력) 다음 실행 결과가 나타나도록 프로그램을 작성하시오\n",
    "파이썬 너무 재미 있어요 ^^<br>\n",
    "파이썬<br>\n",
    "너무 재미<br>\n",
    "재미 있어요 ^^<br>"
   ]
  },
  {
   "cell_type": "code",
   "execution_count": 1,
   "metadata": {
    "scrolled": true
   },
   "outputs": [
    {
     "name": "stdout",
     "output_type": "stream",
     "text": [
      "파이썬 너무 재미 있어요 ^^\n",
      "파이썬\n",
      "너무 재미\n",
      "재미 있어요 ^^\n"
     ]
    }
   ],
   "source": [
    "print('파이썬 너무 재미 있어요 ^^')\n",
    "print('파이썬')\n",
    "print('너무 재미')\n",
    "print('재미 있어요 ^^')"
   ]
  },
  {
   "cell_type": "markdown",
   "metadata": {},
   "source": [
    "##### 2. (수식 계산)다음 코드의 실행결과를 쓰시오\n",
    "print(\"11+22-33\")<br>\n",
    "print(11+22-33)<br>\n",
    "print(안녕?파이썬)<br>"
   ]
  },
  {
   "cell_type": "code",
   "execution_count": 3,
   "metadata": {
    "scrolled": true
   },
   "outputs": [
    {
     "name": "stdout",
     "output_type": "stream",
     "text": [
      "11+22-33\n",
      "0\n",
      "안녕?파이썬\n"
     ]
    }
   ],
   "source": [
    "print(\"11+22-33\")\n",
    "print(11+22-33)\n",
    "print('안녕?파이썬')"
   ]
  },
  {
   "cell_type": "markdown",
   "metadata": {},
   "source": [
    "##### 3. 15를 4로 나누었을 때 몫과 나머지를 구하는 프로그램을 작성하시오"
   ]
  },
  {
   "cell_type": "code",
   "execution_count": 6,
   "metadata": {},
   "outputs": [
    {
     "name": "stdout",
     "output_type": "stream",
     "text": [
      "19\n",
      "11\n",
      "60\n",
      "3.75\n",
      "3\n",
      "3\n",
      "8\n",
      "19 11 3.75 3 3\n",
      "test\n"
     ]
    }
   ],
   "source": [
    "print(15+4)\n",
    "print(15-4)\n",
    "print(15*4)\n",
    "print(15/4)\n",
    "print(15//4)\n",
    "print(15%4)\n",
    "print(2**3)\n",
    "print(15+4,15-4,15/4,15//4,15%4)\n",
    "print(\"test\")"
   ]
  },
  {
   "cell_type": "markdown",
   "metadata": {},
   "source": [
    "###### 4. (입력 명령문) 정수 2개를 입력 받아서 더하기,곱하기,제곱,연산을 하는 프로그램을 작성하시오. (힌트 pow(일수,지수))"
   ]
  },
  {
   "cell_type": "code",
   "execution_count": 15,
   "metadata": {},
   "outputs": [
    {
     "name": "stdout",
     "output_type": "stream",
     "text": [
      "a의 값은 :2\n",
      "b의 값은 :4\n",
      "2 + 4 = 6\n",
      "2 * 4 = 8\n",
      "2 ^ 4 = 16\n"
     ]
    }
   ],
   "source": [
    "a=int(input(\"a의 값은 :\"))\n",
    "b=int(input(\"b의 값은 :\"))\n",
    "print(a,\"+\",b,\"=\",a+b)\n",
    "print(a,\"*\",b,\"=\",a*b)\n",
    "print(a,\"^\",b,\"=\",pow(a,b))\n",
    "\n"
   ]
  },
  {
   "cell_type": "markdown",
   "metadata": {},
   "source": [
    "###### 5. (입력 명령문) 원의 반지름을 입력받아 원의 둘레(2*3.14*반지름)와 면적(3.14*반지름*반지름)을 구하는 프로그램을 작성하시오."
   ]
  },
  {
   "cell_type": "code",
   "execution_count": 22,
   "metadata": {},
   "outputs": [
    {
     "name": "stdout",
     "output_type": "stream",
     "text": [
      "원의 반지름을 입력:2.5\n",
      "반지름 : 2.5\n",
      "둘레 : 15.700000000000001\n",
      "면적 : 19.625\n",
      "반지름 :  2.50\n",
      "둘레 : 15.70\n",
      "면적 : 19.62\n"
     ]
    }
   ],
   "source": [
    "r=float(input(\"원의 반지름을 입력:\"))\n",
    "print(\"반지름 :\",r)\n",
    "print(\"둘레 :\",2*3.14*r)\n",
    "print(\"면적 :\",3.14*pow(r,2))\n",
    "\n",
    "print(\"반지름 :\",format(r,\"5.2f\"))\n",
    "print(\"둘레 :\",format(2*3.14*r,\"5.2f\"))\n",
    "print(\"면적 :\",format(3.14*pow(r,2),\"5.2f\"))"
   ]
  },
  {
   "cell_type": "markdown",
   "metadata": {},
   "source": [
    "###### 6. (입력 명령문) 0과 1000사이의 정수를 읽어서 각 자릿수의 합을 구하는 프로그램을 작성하시오. 예를 들어 정수가 912라면 자릿수의 합은 12이다."
   ]
  },
  {
   "cell_type": "code",
   "execution_count": 30,
   "metadata": {},
   "outputs": [
    {
     "name": "stdout",
     "output_type": "stream",
     "text": [
      "정수를 입력하세요 : 234\n",
      "합 :  9\n"
     ]
    }
   ],
   "source": [
    "num=int(input(\"정수를 입력하세요 : \"))\n",
    "left_1 = num % 10 #2\n",
    "value_1=num//10\n",
    "left_2=value_1%10 #1\n",
    "value_2=value_1//10 #9\n",
    "left_3=value_2%10\n",
    "sum=left_1+left_2+left_3\n",
    "print(\"합 : \",sum)"
   ]
  },
  {
   "cell_type": "markdown",
   "metadata": {},
   "source": [
    "###### 7. (입력 명령문) 16진수 글자 하나를 입력하면 16진수인지 아닌지를 구분하는 코드를 작성하시오."
   ]
  },
  {
   "cell_type": "code",
   "execution_count": 5,
   "metadata": {},
   "outputs": [
    {
     "name": "stdout",
     "output_type": "stream",
     "text": [
      "숫자 하나를 입력하세요 : 5\n",
      "16 진수이다.\n"
     ]
    }
   ],
   "source": [
    "num=input(\"숫자 하나를 입력하세요 : \")\n",
    "if('0'<num and num<='9') or ('a' <= num and num<= 'f') or('A'<= num and num<='F'):\n",
    "    print(\"16 진수이다.\")\n",
    "else:\n",
    "    print(\"16진수가 아니다\")\n",
    "    "
   ]
  },
  {
   "cell_type": "markdown",
   "metadata": {},
   "source": [
    "###### 8. (여러개의 데이타 한번에 읽기) 사용자로 부터 3개의 숫자를 한번에 입력받아 합과 평균을 구하는 프로그램을 작성하시오."
   ]
  },
  {
   "cell_type": "code",
   "execution_count": 4,
   "metadata": {},
   "outputs": [
    {
     "name": "stdout",
     "output_type": "stream",
     "text": [
      "숫자를 입력하세요 : 2,3,4\n",
      "세수의 합은 :    9\n",
      "평균은 :  3.0\n"
     ]
    }
   ],
   "source": [
    "num,num2,num3 = eval(input(\"숫자를 입력하세요 : \"))\n",
    "sum=num+num2+num3\n",
    "avr=sum/3\n",
    "print(\"세수의 합은 : \",format(sum,\"3d\"))\n",
    "print(\"평균은 : \",format(avr,\"3.1f\"))"
   ]
  },
  {
   "cell_type": "markdown",
   "metadata": {},
   "source": [
    "###### 9. (math 패키지 활용해 보기) 두 점의 좌표를 입력받아 점 사이의 거리를 구하는 프로그램을 작성해보시오."
   ]
  },
  {
   "cell_type": "code",
   "execution_count": 4,
   "metadata": {},
   "outputs": [
    {
     "name": "stdout",
     "output_type": "stream",
     "text": [
      "시작점을 입력하시오 : 4,3\n",
      "끝점을 입력하시오 : 5,9\n",
      "두점 사이의 거리 :  6.083\n"
     ]
    }
   ],
   "source": [
    "import math\n",
    "x1,y1=eval(input(\"시작점을 입력하시오 : \"))\n",
    "x2,y2=eval(input(\"끝점을 입력하시오 : \"))\n",
    "\n",
    "d1=math.sqrt((x2-x1)**2+(y2-y1)**2)\n",
    "print(\"두점 사이의 거리 : \",format(d1,\"5.3f\"))\n"
   ]
  },
  {
   "cell_type": "markdown",
   "metadata": {},
   "source": [
    "###### 10. (time 패키지 활용해 보기) 현재의 날짜와 시간을 구하여 출력하는 프로그램을 작성해 보시오."
   ]
  },
  {
   "cell_type": "code",
   "execution_count": 15,
   "metadata": {},
   "outputs": [
    {
     "name": "stdout",
     "output_type": "stream",
     "text": [
      "1584980154.9305358\n",
      "time.struct_time(tm_year=2020, tm_mon=3, tm_mday=24, tm_hour=1, tm_min=15, tm_sec=54, tm_wday=1, tm_yday=84, tm_isdst=0)\n",
      "Tue Mar 24 01:15:54 2020\n"
     ]
    }
   ],
   "source": [
    "import time #1970년 1월 1일 0시 0분 0초\n",
    "\n",
    "print(time.time())\n",
    "print(time.localtime(time.time()))\n",
    "print(time.strftime(\"%c\" ,time.localtime(time.time())))"
   ]
  },
  {
   "cell_type": "markdown",
   "metadata": {},
   "source": [
    "##### 문자열의 format 함수 사용법 익히기"
   ]
  },
  {
   "cell_type": "code",
   "execution_count": 26,
   "metadata": {},
   "outputs": [
    {
     "name": "stdout",
     "output_type": "stream",
     "text": [
      "10\n",
      "30 10\n",
      "10 30\n",
      "합은 10 차는 30\n",
      " 30  10\n"
     ]
    }
   ],
   "source": [
    "#a='{}'.format(10)\n",
    "print('{}'.format(10))\n",
    "print(\"{} {}\".format(10+20,20-10))\n",
    "print(\"{1} {0}\".format(10+20,20-10))\n",
    "print(\"합은 {1} 차는 {0}\".format(10+20,20-10))\n",
    "\n",
    "print(\"{:3d} {:3d}\".format(10+20,20-10))"
   ]
  },
  {
   "cell_type": "code",
   "execution_count": null,
   "metadata": {},
   "outputs": [],
   "source": []
  }
 ],
 "metadata": {
  "kernelspec": {
   "display_name": "Python 3",
   "language": "python",
   "name": "python3"
  },
  "language_info": {
   "codemirror_mode": {
    "name": "ipython",
    "version": 3
   },
   "file_extension": ".py",
   "mimetype": "text/x-python",
   "name": "python",
   "nbconvert_exporter": "python",
   "pygments_lexer": "ipython3",
   "version": "3.7.6"
  }
 },
 "nbformat": 4,
 "nbformat_minor": 4
}
