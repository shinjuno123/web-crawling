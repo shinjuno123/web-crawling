{
 "cells": [
  {
   "cell_type": "markdown",
   "metadata": {},
   "source": [
    "###### 1. (출력문 정리) 금액을 입력받아서  5만원,1만원,1000원,500원,100원,50원,10원 동전으로 교환하는 프로그램을 작성하시오"
   ]
  },
  {
   "cell_type": "code",
   "execution_count": 6,
   "metadata": {},
   "outputs": [
    {
     "name": "stdout",
     "output_type": "stream",
     "text": [
      "교환할 돈을 입력하세요 : 56789\n",
      "50000원 1장 10000원 0장, 5000원 1장,1000원 1장\n",
      "500원 1개, 100원 2개, 50원 1개, 10원 3개\n",
      "바꾸지 못한 돈 ==> 9원 \n",
      "\n"
     ]
    }
   ],
   "source": [
    "money = int(input(\"교환할 돈을 입력하세요 : \"))\n",
    "p50000 = money // 50000; money %= 50000\n",
    "p10000 = money // 10000; money %= 10000\n",
    "p5000 = money // 5000; money %=5000\n",
    "p1000 = money // 1000; money %= 1000\n",
    "p500 = money // 500; money %= 500\n",
    "p100 = money // 100; money %= 100\n",
    "p50 = money // 50; money %= 50\n",
    "p10 = money // 10; money %= 10\n",
    "\n",
    "print(\"50000원 {}장 10000원 {}장, 5000원 {}장,1000원 {}장\".format(p50000,p10000,p5000,p1000))\n",
    "print(\"500원 {}개, 100원 {}개, 50원 {}개, 10원 {}개\".format(p500,p100,p50,p10))\n",
    "print(\"바꾸지 못한 돈 ==> %d원 \\n\"%money)"
   ]
  },
  {
   "cell_type": "markdown",
   "metadata": {},
   "source": [
    "###### 2.(if 명령문, 관계연산자, 논리연산자) 입력한 년도가 윤년인지 아닌지를 계산하는 프로그램을 작성하시오.\n",
    " - 4로 나누어 떨어지고, 100으로는 나누어 떨어지지 않으면 윤년이다\n",
    " - 400으로 나누어 떨어지는 해는 윤년이다"
   ]
  },
  {
   "cell_type": "code",
   "execution_count": 13,
   "metadata": {
    "scrolled": true
   },
   "outputs": [
    {
     "name": "stdout",
     "output_type": "stream",
     "text": [
      "연도를 입력하시오 : 2004\n"
     ]
    }
   ],
   "source": [
    "year = int(input(\"연도를 입력하시오 : \"))\n",
    "\n",
    "if((year % 4 == 0 & year and 100 != 0) or year % 400 == 0):\n",
    "    print(\"%d 년은 윤년입니다.\"%year)\n",
    "else:\n",
    "    "
   ]
  },
  {
   "cell_type": "markdown",
   "metadata": {},
   "source": [
    "##### 3.(random 패키지) 두 사람이 주사위를 던져서 높은 숫자가 나오는 사람이 이기는 게임 프로그램을 작성하시오."
   ]
  },
  {
   "cell_type": "code",
   "execution_count": 1,
   "metadata": {},
   "outputs": [
    {
     "name": "stdout",
     "output_type": "stream",
     "text": [
      "컴퓨턱가 A의 주사위 숫자를 만든다 ... 3\n",
      "컴퓨턱가 B의 주사위 숫자를 만든다 ... 4\n",
      "B가 이겼습니다\n"
     ]
    }
   ],
   "source": [
    "import random\n",
    "\n",
    "print(\"컴퓨턱가 A의 주사위 숫자를 만든다 ... \", end = '')\n",
    "\n",
    "num_a=random.randrange(1,7)\n",
    "print( \"{}\".format(num_a))\n",
    "print(\"컴퓨턱가 B의 주사위 숫자를 만든다 ... \", end = '')\n",
    "\n",
    "num_b=random.randrange(1,7)\n",
    "print( \"{}\".format(num_b))\n",
    "\n",
    "\n",
    "if(num_a > num_b):\n",
    "    print(\"A가 이겼습니다\")\n",
    "elif(num_a < num_b):\n",
    "    print(\"B가 이겼습니다\")\n",
    "else:\n",
    "    print(\"비겼습니다\")"
   ]
  },
  {
   "cell_type": "markdown",
   "metadata": {},
   "source": [
    "###### 4.(다중 if 명령문) 사용자로부터 키(cm)와 몸무게(kg)을 입력받아  BMI를 구하고 비만도를 측정하는 프로그램을 작성하시오.\n",
    " - BMI = 몸무게/(키* 키)(몸무게 단위(kg),키 단위(m))\n",
    " - BMI < 18.5 저체중\n",
    " - 18.5 <= BMI< 25 정상\n",
    " - 25 <= BMI <= 30 비만\n",
    " - 30 <= BMI 고도비만"
   ]
  },
  {
   "cell_type": "code",
   "execution_count": 4,
   "metadata": {},
   "outputs": [
    {
     "name": "stdout",
     "output_type": "stream",
     "text": [
      "당신의 몸무게는 (kg)60\n",
      "당신의 키는 (cm)170\n",
      "당신의 BMI 는 20.76 이고 정상 입니다.\n"
     ]
    }
   ],
   "source": [
    "import math\n",
    "weight = float(input(\"당신의 몸무게는 (kg)\"))\n",
    "height = float(input(\"당신의 키는 (cm)\"))\n",
    "height = height / 100 \n",
    "bmi = weight/math.pow(height,2)\n",
    "if bmi < 18.5:\n",
    "    result = \"저체중\"\n",
    "elif bmi >= 18.5 and bmi <= 25:\n",
    "    result = \"정상\"\n",
    "elif bmi >= 25 and bmi <= 30:\n",
    "    result = \"비만\"\n",
    "else:\n",
    "    result = \"고도비만\"\n",
    "print(\"당신의 BMI 는 {:5.2f} 이고 {} 입니다.\".format(bmi,result))"
   ]
  },
  {
   "cell_type": "markdown",
   "metadata": {},
   "source": [
    "##### 5.(for 명령문과 range 함수)숫자를 입력하면 그 숫자에 대한 구구단을 출력하는 프로그램을 작성하시오"
   ]
  },
  {
   "cell_type": "code",
   "execution_count": 8,
   "metadata": {},
   "outputs": [
    {
     "name": "stdout",
     "output_type": "stream",
     "text": [
      "출력하고 싶은 구구단 숫자를 입력하시오: 4\n",
      "4 x 1 = 4\n",
      "4 x 2 = 8\n",
      "4 x 3 = 12\n",
      "4 x 4 = 16\n",
      "4 x 5 = 20\n",
      "4 x 6 = 24\n",
      "4 x 7 = 28\n",
      "4 x 8 = 32\n",
      "4 x 9 = 36\n"
     ]
    }
   ],
   "source": [
    "num = int(input(\"출력하고 싶은 구구단 숫자를 입력하시오: \"))\n",
    "\n",
    "for i in range(1,10):\n",
    "    print(num,'x',i,'=',num*i)"
   ]
  },
  {
   "cell_type": "markdown",
   "metadata": {},
   "source": [
    "###### 6.(for 명령문과 문자열)사용자가 입력한 문자열을 뒤집어서 출력하는 프로그램을 작성하시오.\n",
    " - 입력: hello 출력: olleh"
   ]
  },
  {
   "cell_type": "code",
   "execution_count": 14,
   "metadata": {},
   "outputs": [
    {
     "name": "stdout",
     "output_type": "stream",
     "text": [
      "문자열을 입력하세요 : asdw\n",
      "wdsa\n"
     ]
    }
   ],
   "source": [
    "#print(len(\"hello\"))\n",
    "data = input(\"문자열을 입력하세요 : \")\n",
    "result =''\n",
    "\n",
    "for i in data :\n",
    "    result = i+result\n",
    "print(result)"
   ]
  },
  {
   "cell_type": "markdown",
   "metadata": {},
   "source": [
    "##### 7.(while 명령문)10 진수를 입력받아서 2진수로 출력하는 프로그램을 작성하시오"
   ]
  },
  {
   "cell_type": "code",
   "execution_count": 2,
   "metadata": {},
   "outputs": [
    {
     "name": "stdout",
     "output_type": "stream",
     "text": [
      "10진수를 숫자를 입력하세요 : 20\n",
      "10100\n",
      "0b10100\n",
      "0o24\n",
      "0x14\n"
     ]
    }
   ],
   "source": [
    "num = int(input(\"10진수를 숫자를 입력하세요 : \"))\n",
    "tmp = num\n",
    "result = ''\n",
    "\n",
    "while(num > 0):\n",
    "    rem = num %2\n",
    "    num = num//2\n",
    "    result = str(rem) + result\n",
    "print(result)\n",
    "\n",
    "print(format(bin(tmp)))\n",
    "print(format(oct(tmp)))\n",
    "print(format(hex(tmp)))"
   ]
  },
  {
   "cell_type": "code",
   "execution_count": 6,
   "metadata": {},
   "outputs": [
    {
     "name": "stdout",
     "output_type": "stream",
     "text": [
      "십진수를 입력하세요 :700\n",
      "1010111100\n",
      "700\n",
      "0b1010111100\n",
      "0o1274\n",
      "0x2bc\n"
     ]
    }
   ],
   "source": [
    "dec = int(input(\"십진수를 입력하세요 :\"))\n",
    "tmp = dec\n",
    "val = dec\n",
    "bine = ''\n",
    "while val != 0:\n",
    "    left= val % 2;val = val // 2\n",
    "    bine = str(left) + bine\n",
    "    \n",
    "print(bine)\n",
    "print(tmp)\n",
    "print(format(bin(tmp)))\n",
    "print(format(oct(tmp)))\n",
    "print(format(hex(tmp)))"
   ]
  },
  {
   "cell_type": "markdown",
   "metadata": {},
   "source": [
    "##### 8.(while 명령문) 컴퓨터에서 1에서 100까지의 숫자를 생성하면 사용자가 그 숫자를 추측하여 맞출 수 있는 프로그램을 작성하시오"
   ]
  },
  {
   "cell_type": "code",
   "execution_count": 3,
   "metadata": {},
   "outputs": [
    {
     "name": "stdout",
     "output_type": "stream",
     "text": [
      "컴퓨터가 생성한 숫자를 맞추어 보세요50\n",
      "67\n",
      "컴퓨터가 생성한 숫자를 맞추어 보세요50\n",
      "컴퓨터가 생성한 숫자보다 작습니다.\n",
      "컴퓨터가 생성한 숫자를 맞추어 보세요69\n",
      "컴퓨터가 생성한 숫자보다 큽니다.\n",
      "컴퓨터가 생성한 숫자를 맞추어 보세요67\n",
      "정답입니다. 컴퓨터가 생성한 숫자는 67 입니다.\n"
     ]
    }
   ],
   "source": [
    "import random\n",
    "guess = random.randrange(1,100+1)\n",
    "\n",
    "num = int(input(\"컴퓨터가 생성한 숫자를 맞추어 보세요\"))\n",
    "print(guess)\n",
    "\n",
    "while num != guess:\n",
    "    if num > guess:\n",
    "        print(\"컴퓨터가 생성한 숫자보다 큽니다.\")\n",
    "    elif num < guess:\n",
    "        print(\"컴퓨터가 생성한 숫자보다 작습니다.\")\n",
    "    num = int(input(\"컴퓨터가 생성한 숫자를 맞추어 보세요\"))\n",
    "\n",
    "\n",
    "    \n",
    "print('정답입니다. 컴퓨터가 생성한 숫자는 {} 입니다.'.format(num))\n",
    "    \n",
    "        \n",
    "                "
   ]
  },
  {
   "cell_type": "markdown",
   "metadata": {},
   "source": [
    "##### 9.(if명령문과  for명령문)사용자가 입력한 숫자N에 대해서 N이 짝수이면 N! 을 홀수이면 ΣN을 구하는 프로그램을 작성하시오"
   ]
  },
  {
   "cell_type": "code",
   "execution_count": 7,
   "metadata": {},
   "outputs": [
    {
     "name": "stdout",
     "output_type": "stream",
     "text": [
      "숫자를 입력하세요11\n",
      "Σ11 = 66\n"
     ]
    }
   ],
   "source": [
    "n = int(input(\"숫자를 입력하세요\"))\n",
    "\n",
    "if n % 2 == 0 : #짝수\n",
    "    result = 1\n",
    "    for i in range(1,n+1):\n",
    "        result *= i    \n",
    "    print(\"{}! = {}\".format(n,result))\n",
    "else : #홀수    \n",
    "    result = 0\n",
    "    for i in range(1,n+1):\n",
    "        result += i\n",
    "    print(\"Σ{} = {}\".format(n,result))     "
   ]
  },
  {
   "cell_type": "markdown",
   "metadata": {},
   "source": [
    "##### 10.(if명령문과  for명령문)2이상의 두정수를 입력받고, 두 수 사이의 소수들의 합을 구하는 프로그램을 작성하시오"
   ]
  },
  {
   "cell_type": "code",
   "execution_count": 11,
   "metadata": {
    "scrolled": true
   },
   "outputs": [
    {
     "name": "stdout",
     "output_type": "stream",
     "text": [
      "시작숫자(2이상) : 10\n",
      "끝 숫자 : 100\n",
      "10 과 100 사이에 있는 소수는  11  13  17  19  23  29  31  37  41  43  47  53  59  61  67  71  73  79  83  89  97 \n",
      "10와 100 사이에 있는 소수들의 합은 1043 입니다.\n"
     ]
    }
   ],
   "source": [
    "num1 = int(input(\"시작숫자(2이상) : \"))\n",
    "num2 = int(input(\"끝 숫자 : \"))\n",
    "\n",
    "print(num1,'과',num2,'사이에 있는 소수는',end=' ')\n",
    "sum = 0\n",
    "\n",
    "for i in range(num1,num2+1):\n",
    "    isSosu = True\n",
    "    for j in range(2,i):\n",
    "        if(i % j == 0 ):\n",
    "            isSosu = False\n",
    "            break\n",
    "            \n",
    "    if(isSosu == True):\n",
    "        print(format(i,'3d'),end=' ')\n",
    "        sum = sum + i\n",
    "        \n",
    "print()\n",
    "print(\"%d와 %d 사이에 있는 소수들의 합은 %d 입니다.\"%(num1,num2,sum))\n"
   ]
  }
 ],
 "metadata": {
  "kernelspec": {
   "display_name": "Python 3",
   "language": "python",
   "name": "python3"
  },
  "language_info": {
   "codemirror_mode": {
    "name": "ipython",
    "version": 3
   },
   "file_extension": ".py",
   "mimetype": "text/x-python",
   "name": "python",
   "nbconvert_exporter": "python",
   "pygments_lexer": "ipython3",
   "version": "3.7.6"
  }
 },
 "nbformat": 4,
 "nbformat_minor": 4
}
