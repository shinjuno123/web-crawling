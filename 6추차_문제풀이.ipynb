{
 "cells": [
  {
   "cell_type": "markdown",
   "metadata": {},
   "source": [
    "##### 1.다음과 같이 출력할 수 있는 프로그램을 작성해보시오(제일 앞에 있는 점은 출력하지 마시오"
   ]
  },
  {
   "cell_type": "code",
   "execution_count": 11,
   "metadata": {},
   "outputs": [
    {
     "name": "stdout",
     "output_type": "stream",
     "text": [
      "Enter inline number : 7\n",
      "12345678910\n",
      "             1\n",
      "           2 1\n",
      "         3 2 1\n",
      "       4 3 2 1\n",
      "     5 4 3 2 1\n",
      "   6 5 4 3 2 1\n",
      " 7 6 5 4 3 2 1\n"
     ]
    }
   ],
   "source": [
    "num = eval(input(\"Enter inline number : \")) #2+3\n",
    "print(\"12345678910\")\n",
    "\n",
    "for row in range(1,num+1):\n",
    "    for i in range(row,num):\n",
    "        print(\"  \",end = \"\")\n",
    "    for i in range(row,0,-1):\n",
    "        print(format(i,\"2d\"),end=\"\")\n",
    "    print()    \n",
    "    "
   ]
  },
  {
   "cell_type": "markdown",
   "metadata": {},
   "source": [
    "##### 2.1부터 1000까지의 홀수들의 합계중에서,최초로 1000이 넘어가는 숫자를 구하는 프로그램을 작성하시오"
   ]
  },
  {
   "cell_type": "code",
   "execution_count": 12,
   "metadata": {},
   "outputs": [
    {
     "name": "stdout",
     "output_type": "stream",
     "text": [
      "1부터 1000 사이의 홀수들의 합을 구하다 합이 최초로 1000이 넘어가는 숫자 : 63\n",
      "0+1+3+5+7+9+11+13+15+17+19+21+23+25+27+29+31+33+35+37+39+41+43+45+47+49+51+53+55+57+59+61+63= 1024\n"
     ]
    }
   ],
   "source": [
    "hop = 0\n",
    "exp = '0'\n",
    "\n",
    "for i in range(1,1000+1,+2):\n",
    "    exp = exp + '+' + str(i)\n",
    "    hop = hop + i\n",
    "    \n",
    "    if hop > 1000:\n",
    "        break\n",
    "        \n",
    "print('1부터 1000 사이의 홀수들의 합을 구하다 합이 최초로 1000이 넘어가는 숫자 : %d' % i)\n",
    "print(exp + '=',hop)"
   ]
  },
  {
   "cell_type": "markdown",
   "metadata": {},
   "source": [
    "##### 3.아래와 같이 사용자가 숫자를 입력하면 입력된 숫자의 각 자릿수의 2배만큼 (별)문자를 출력하는 프로그램을 작성하시오"
   ]
  },
  {
   "cell_type": "code",
   "execution_count": 1,
   "metadata": {},
   "outputs": [
    {
     "name": "stdout",
     "output_type": "stream",
     "text": [
      "숫자를 입력하세요 : 3335648\n",
      "\n",
      "★★★★★★\n",
      "★★★★★★\n",
      "★★★★★★\n",
      "★★★★★★★★★★\n",
      "★★★★★★★★★★★★\n",
      "★★★★★★★★\n",
      "★★★★★★★★★★★★★★★★\n"
     ]
    }
   ],
   "source": [
    "num = input(\"숫자를 입력하세요 : \") # num = '543'\n",
    "print()\n",
    "i = 0\n",
    "ch = num[i]\n",
    "while True :\n",
    "    heart_num = int(ch) #'5' -> 5\n",
    "    heart = ''\n",
    "    for k in range(0,heart_num * 2):        \n",
    "        heart = heart + '\\u2605'\n",
    "    print(heart)\n",
    "    i = i + 1\n",
    "    if(i > len(num)-1):\n",
    "        break\n",
    "        \n",
    "    ch = num[i]\n",
    "    "
   ]
  },
  {
   "cell_type": "markdown",
   "metadata": {},
   "source": [
    "##### 4.세자리 숫자 서로다른 숫자로 구성됨) 두개가 주어졌을 때,숫자와 자릿수가 같으면 'strike' ,숫자는 서로 포함하나 자리수가 다르면 'ball'  로 카운트 하는 프로그램을 작성하시오"
   ]
  },
  {
   "cell_type": "markdown",
   "metadata": {},
   "source": [
    "- 369\n",
    "- 963 \n",
    "- strike : 1 ball : 2"
   ]
  },
  {
   "cell_type": "code",
   "execution_count": 7,
   "metadata": {},
   "outputs": [
    {
     "name": "stdout",
     "output_type": "stream",
     "text": [
      "3  b:  2  a:  0\n",
      "6  b:  1  a:  1\n",
      "strike :  1 ball :  1\n"
     ]
    }
   ],
   "source": [
    "a = '368'\n",
    "b = '963'\n",
    "\n",
    "strike = 0\n",
    "ball = 0\n",
    "\n",
    "result = False\n",
    "\n",
    "\n",
    "for number in a:    #문자열 1.count(문자열2): 문자열1에 포함되어있는 문자열 2의 갯수를 구한다.\n",
    "    if b.count(number) == 1:\n",
    "        result = True\n",
    "        if b.find(number) == a.find(number):\n",
    "            strike += 1\n",
    "            print(number,' b: ',b.find(number),' a: ',a.find(number))\n",
    "        else:\n",
    "            print(number,' b: ',b.find(number),' a: ',a.find(number))\n",
    "            ball += 1\n",
    "    \n",
    "if result:\n",
    "    print(\"strike : \",strike,\"ball : \",ball) \n",
    "else:\n",
    "    print(\"일치하는 수가 하나도 없습니다.\")\n",
    "      \n",
    "                                    "
   ]
  },
  {
   "cell_type": "markdown",
   "metadata": {},
   "source": [
    "###### 5.(리스트 변수와 패킹) 다음 프로그램의 결과를 예측해보시오"
   ]
  },
  {
   "cell_type": "markdown",
   "metadata": {},
   "source": [
    "- list_a = [0,1,2,'일','이','삼','sample','테스트',[3,4],[5,6,7]]\n",
    "- print(list_a)\n",
    "- print(list_a[0],list_a[1],list_a[3],list_a[6],list_a[8],list_a[9])\n",
    "- print(list_a[8][0],list_a[8][1],list_a[9][0],list_a[9][1],list_a[9][2])\n",
    "- print(list_a[1:5])\n",
    "- a=[1,2,3]\n",
    "- b=[4,5,6]\n",
    "- print(a+b)\n",
    "- print('리스트 a의 길이=',len(a),'리스트 b의 길이=',len(b))\n",
    "- print(a*3)"
   ]
  },
  {
   "cell_type": "code",
   "execution_count": 5,
   "metadata": {},
   "outputs": [
    {
     "name": "stdout",
     "output_type": "stream",
     "text": [
      "[0, 1, 2, '일', '이', '삼', 'sample', '테스트', [3, 4], [5, 6, 7]]\n",
      "0 1 일 sample [3, 4] [5, 6, 7]\n",
      "3 4 5 6 7\n",
      "[1, 2, '일', '이']\n",
      "[1, 2, 3, 4, 5, 6]\n",
      "리스트 a의 길이= 3 리스트 b의 길이= 3\n",
      "[1, 2, 3, 1, 2, 3, 1, 2, 3]\n"
     ]
    }
   ],
   "source": [
    "list_a = [0,1,2,'일','이','삼','sample','테스트',[3,4],[5,6,7]]\n",
    "print(list_a)\n",
    "print(list_a[0],list_a[1],list_a[3],list_a[6],list_a[8],list_a[9])\n",
    "print(list_a[8][0],list_a[8][1],list_a[9][0],list_a[9][1],list_a[9][2])\n",
    "print(list_a[1:5])\n",
    "a=[1,2,3]\n",
    "b=[4,5,6]\n",
    "print(a+b)\n",
    "print('리스트 a의 길이=',len(a),'리스트 b의 길이=',len(b))\n",
    "print(a*3)"
   ]
  },
  {
   "cell_type": "markdown",
   "metadata": {},
   "source": [
    "##### 6.(리스트 함수)다음 프로그램의 결과를 예측해보시오"
   ]
  },
  {
   "cell_type": "markdown",
   "metadata": {},
   "source": [
    "- test = [0,1,2,3,4,5,7,9]\n",
    "- test.append(9)\n",
    "- test.extend([8,9])\n",
    "- test.insert(3,3.5)\n",
    "- test.remove(3)\n",
    "- test.pop(4)\n",
    "- n = test.pop()\n",
    "- test.sort()\n",
    "- test.clear()\n"
   ]
  },
  {
   "cell_type": "code",
   "execution_count": 11,
   "metadata": {},
   "outputs": [
    {
     "name": "stdout",
     "output_type": "stream",
     "text": [
      "[0, 1, 2, 3, 4, 5, 7, 9]\n",
      "[0, 1, 2, 3, 4, 5, 7, 9, 9]\n",
      "[0, 1, 2, 3, 4, 5, 7, 9, 9, 8, 9]\n",
      "[0, 1, 2, 3.5, 3, 4, 5, 7, 9, 9, 8, 9]\n",
      "[0, 1, 2, 3.5, 4, 5, 7, 9, 9, 8, 9]\n",
      "[0, 1, 2, 3.5, 5, 7, 9, 9, 8, 9]\n",
      "[0, 1, 2, 3.5, 5, 7, 9, 9, 8]\n",
      "[0, 1, 2, 3.5, 5, 7, 8, 9, 9]\n",
      "[]\n"
     ]
    }
   ],
   "source": [
    "test = [0,1,2,3,4,5,7,9]\n",
    "print(test)\n",
    "test.append(9)\n",
    "print(test)\n",
    "test.extend([8,9])\n",
    "print(test)\n",
    "test.insert(3,3.5)\n",
    "print(test)\n",
    "test.remove(3)\n",
    "print(test)\n",
    "test.pop(4)\n",
    "print(test)\n",
    "n = test.pop()\n",
    "print(test)\n",
    "test.sort()\n",
    "print(test)\n",
    "test.clear()\n",
    "print(test)\n"
   ]
  },
  {
   "cell_type": "markdown",
   "metadata": {},
   "source": [
    "##### 7.키보드에서 숫자를 5개 읽어들여 총합과 평균을 구하는 프로그램을 작성하시오."
   ]
  },
  {
   "cell_type": "code",
   "execution_count": 18,
   "metadata": {
    "scrolled": true
   },
   "outputs": [
    {
     "name": "stdout",
     "output_type": "stream",
     "text": [
      "숫자 입력하세요 : 1\n",
      "숫자 입력하세요 : 3\n",
      "숫자 입력하세요 : 5\n",
      "숫자 입력하세요 : 7\n",
      "숫자 입력하세요 : 9\n",
      "[1, 3, 5, 7, 9]\n",
      "25\n",
      "리스트 num에 있는 원소의 합은  25\n",
      "리스트 num에 있는 원소의 최대값은  9\n",
      "리스트 num에 있는 원소의 최소값음  1\n",
      "리스트 num에 있는 원소의 갯수는  5\n",
      "리스트 num에 있는 원소의 평균은  5.0\n"
     ]
    }
   ],
   "source": [
    "count = 5\n",
    "\n",
    "hap = 0\n",
    "\n",
    "num = []\n",
    "for i in range(count):\n",
    "    value = eval(input(\"숫자 입력하세요 : \"))\n",
    "    num.append(value)\n",
    "    \n",
    "print(num)\n",
    "\n",
    "\n",
    "for i in range(count):\n",
    "    hap = hap + num[i]\n",
    "    \n",
    "print(hap)\n",
    "\n",
    "print('리스트 num에 있는 원소의 합은 ',sum(num))\n",
    "print('리스트 num에 있는 원소의 최대값은 ',max(num))\n",
    "print('리스트 num에 있는 원소의 최소값음 ',min(num))\n",
    "print('리스트 num에 있는 원소의 갯수는 ',len(num))\n",
    "\n",
    "\n",
    "print('리스트 num에 있는 원소의 평균은 ',sum(num)/count)\n"
   ]
  },
  {
   "cell_type": "markdown",
   "metadata": {},
   "source": [
    "###### 8.키보드에서 문자열을 공백으로 구분하여 여러개 입력한 후 각 문자열을 대문자로 바꾸고, 또 입력한 역순으로 출력할 수 있는 프로그램을 작성하시오."
   ]
  },
  {
   "cell_type": "code",
   "execution_count": 30,
   "metadata": {},
   "outputs": [
    {
     "name": "stdout",
     "output_type": "stream",
     "text": [
      "문자열을 공백으로 구분하여 여러개 입력하시오 : sample test program\n",
      "['sample', 'test', 'program']\n",
      "['SAMPLE', 'TEST', 'PROGRAM']\n",
      "['PROGRAM', 'TEST', 'SAMPLE']\n"
     ]
    }
   ],
   "source": [
    "s = input('문자열을 공백으로 구분하여 여러개 입력하시오 : ')\n",
    "\n",
    "items = s.split()\n",
    "print(items)\n",
    "results = []\n",
    "for x in items:\n",
    "    results.append(x.upper())\n",
    "print(results)    \n",
    "\n",
    "results.reverse()\n",
    "print(results)\n",
    "\n",
    "\n",
    "\n",
    "#rev_results= []\n",
    "#for i in range(len(results)-1,-1,-1):\n",
    "#    rev_results.append(results[i])\n",
    "#    \n",
    "#print(rev_results)    "
   ]
  },
  {
   "cell_type": "markdown",
   "metadata": {},
   "source": [
    "##### 1에서 10사이의 복권번호 중에서 6개의 숫자를 모두 맞히면 '1억원' 5개를 맞히면 '5천만원' 4개를 맞히면 '1천만원'에 당첨되는 Lotto 복권이 있다고 가정하자. 사용자로부터 6개의 정수를 받은 다음 당첨된 상금을 알려주는 프로그램을 작성하시오 "
   ]
  },
  {
   "cell_type": "code",
   "execution_count": 9,
   "metadata": {},
   "outputs": [
    {
     "name": "stdout",
     "output_type": "stream",
     "text": [
      "[1, 4, 5, 7, 2, 8]\n",
      "복권번호 6개를 입력하시오: 1 4 5 7 9 6\n",
      "['1', '4', '5', '7', '9', '6']\n",
      "4  개의 숫자가 일치합니다.\n",
      "천만 당첨\n"
     ]
    }
   ],
   "source": [
    "import random\n",
    "\n",
    "lotto = []\n",
    "\n",
    "while len(lotto) < 6:\n",
    "    imsi = random.randrange(1,9+1)\n",
    "    while imsi in lotto:\n",
    "        imsi = random.randrange(1,9+1)\n",
    "    \n",
    "    lotto.append(imsi)\n",
    "    \n",
    "print(lotto)  \n",
    "\n",
    "num = input(\"복권번호 6개를 입력하시오: \").split()\n",
    "print(num)\n",
    "\n",
    "count = 0\n",
    "\n",
    "for i in num:\n",
    "    if int(i) in lotto:\n",
    "        count = count + 1\n",
    "\n",
    "print(count,\" 개의 숫자가 일치합니다.\")\n",
    "\n",
    "if count == 6:\n",
    "    print(\"1억 당첨\")\n",
    "elif count == 5:\n",
    "    print('5천만 당첨')\n",
    "elif count == 4:\n",
    "    print('천만 당첨')\n",
    "else:\n",
    "    print('다음기회에')\n",
    "        "
   ]
  },
  {
   "cell_type": "markdown",
   "metadata": {},
   "source": []
  },
  {
   "cell_type": "code",
   "execution_count": null,
   "metadata": {},
   "outputs": [],
   "source": []
  }
 ],
 "metadata": {
  "kernelspec": {
   "display_name": "Python 3",
   "language": "python",
   "name": "python3"
  },
  "language_info": {
   "codemirror_mode": {
    "name": "ipython",
    "version": 3
   },
   "file_extension": ".py",
   "mimetype": "text/x-python",
   "name": "python",
   "nbconvert_exporter": "python",
   "pygments_lexer": "ipython3",
   "version": "3.7.6"
  }
 },
 "nbformat": 4,
 "nbformat_minor": 4
}
