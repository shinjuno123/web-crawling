{
 "cells": [
  {
   "cell_type": "markdown",
   "metadata": {},
   "source": [
    "#### 1. ['abcd','efgfd','kg','dspassdf','dfsresa',dsfsfdasfds'] 와 같은 문자열을 가진 리스트가 존재한다. 가장 짧은 문자열과 가장 긴 문자열을 출력하는 프로그램을 작성하시오(리스트에 저장된 모든 문자열의 길이는 다르다)"
   ]
  },
  {
   "cell_type": "code",
   "execution_count": null,
   "metadata": {},
   "outputs": [],
   "source": []
  },
  {
   "cell_type": "code",
   "execution_count": null,
   "metadata": {},
   "outputs": [],
   "source": []
  },
  {
   "cell_type": "code",
   "execution_count": null,
   "metadata": {},
   "outputs": [],
   "source": []
  },
  {
   "cell_type": "code",
   "execution_count": null,
   "metadata": {},
   "outputs": [],
   "source": []
  },
  {
   "cell_type": "code",
   "execution_count": null,
   "metadata": {},
   "outputs": [],
   "source": []
  },
  {
   "cell_type": "code",
   "execution_count": null,
   "metadata": {},
   "outputs": [],
   "source": []
  },
  {
   "cell_type": "code",
   "execution_count": null,
   "metadata": {},
   "outputs": [],
   "source": []
  },
  {
   "cell_type": "code",
   "execution_count": null,
   "metadata": {},
   "outputs": [],
   "source": []
  },
  {
   "cell_type": "code",
   "execution_count": null,
   "metadata": {},
   "outputs": [],
   "source": []
  },
  {
   "cell_type": "code",
   "execution_count": null,
   "metadata": {},
   "outputs": [],
   "source": []
  },
  {
   "cell_type": "code",
   "execution_count": null,
   "metadata": {},
   "outputs": [],
   "source": []
  },
  {
   "cell_type": "code",
   "execution_count": null,
   "metadata": {},
   "outputs": [],
   "source": []
  },
  {
   "cell_type": "code",
   "execution_count": null,
   "metadata": {},
   "outputs": [],
   "source": []
  },
  {
   "cell_type": "code",
   "execution_count": 9,
   "metadata": {},
   "outputs": [
    {
     "name": "stdout",
     "output_type": "stream",
     "text": [
      "가장 길이가 짧은 문자열: kg 의 길이는 2 입니다.\n",
      "가장 길이가 긴 문자열: dsfsfdasfds 의 길이는 11 입니다.\n"
     ]
    }
   ],
   "source": [
    "sample = ['abcd','efgfd','kg','dspassdf','dfsresa','dsfsfdasfds']\n",
    "\n",
    "min_len = len(sample[0])\n",
    "min_str = sample[0]\n",
    "\n",
    "max_len = len(sample[0])\n",
    "max_str = sample[0]\n",
    "\n",
    "for t in sample:\n",
    "    if min_len > len(t):\n",
    "        min_len = len(t)\n",
    "        min_str = t\n",
    "    if max_len < len(t):\n",
    "        max_len = len(t)\n",
    "        max_str = t\n",
    "        \n",
    "        \n",
    "print('가장 길이가 짧은 문자열:',min_str,'의 길이는',min_len,'입니다.')\n",
    "print('가장 길이가 긴 문자열:',max_str,'의 길이는',max_len,'입니다.')"
   ]
  },
  {
   "cell_type": "markdown",
   "metadata": {},
   "source": [
    "#### 2. 10명의 학생이 사지선다형 quiz를 보았습니다. 리스트를 이용하여 채점하는 프로그램을 작성하시오. 학생들이 입력한 답과 정답은 아래와 같습니다.\n",
    "\n",
    "- [1,4,2,3,2,1,3,4,2,4]\n",
    "- [2,3,1,2,4,3,2,1,3,4]\n",
    "- [1,2,3,4,2,2,3,4,1,1]\n",
    "- [4,1,3,2,3,1,2,4,1,4]\n",
    "- [4,4,2,3,3,2,3,2,1,3]\n",
    "- [3,1,2,4,1,2,1,2,4,4]\n",
    "- [3,1,3,1,4,1,2,3,1,4]\n",
    "- [2,3,2,1,2,4,1,4,3,2]\n",
    "- 정답\n",
    "- [1,3,2,4,1,4,2,3,1,4]"
   ]
  },
  {
   "cell_type": "code",
   "execution_count": 19,
   "metadata": {},
   "outputs": [
    {
     "name": "stdout",
     "output_type": "stream",
     "text": [
      "1 번 학생은 3 개를 맞추었습니다.\n",
      "2 번 학생은 3 개를 맞추었습니다.\n",
      "3 번 학생은 3 개를 맞추었습니다.\n",
      "4 번 학생은 3 개를 맞추었습니다.\n",
      "5 번 학생은 2 개를 맞추었습니다.\n",
      "6 번 학생은 4 개를 맞추었습니다.\n",
      "7 번 학생은 4 개를 맞추었습니다.\n",
      "8 번 학생은 3 개를 맞추었습니다.\n",
      "9 번 학생은 2 개를 맞추었습니다.\n",
      "10 번 학생은 3 개를 맞추었습니다.\n"
     ]
    }
   ],
   "source": [
    "keys = [1,3,2,4,1,4,2,3,1,4]\n",
    "answers = [\n",
    "    [1,4,2,3,2,1,3,4,2,4],\n",
    "    [2,3,1,2,4,3,2,1,3,4],\n",
    "    [1,2,3,4,2,2,3,4,1,1],\n",
    "    [4,1,3,2,3,1,2,4,1,4],\n",
    "    [4,4,2,3,3,2,3,2,1,3],\n",
    "    [3,1,2,4,1,2,1,2,4,4],\n",
    "    [3,1,3,1,4,1,2,3,1,4],\n",
    "    [2,3,2,1,2,4,1,4,3,2],\n",
    "    [2,1,2,1,4,3,1,4,1,1],\n",
    "    [2,3,2,1,2,4,1,4,3,2]\n",
    "]\n",
    "\n",
    "for i in range(len(answers)):\n",
    "    correct_count = 0\n",
    "    for j in range(len(answers[i])):\n",
    "        if answers[i][j] == keys[j]:\n",
    "            correct_count += 1 \n",
    "            \n",
    "    print(i+1,'번 학생은',correct_count,'개를 맞추었습니다.')        \n",
    "\n",
    "\n"
   ]
  },
  {
   "cell_type": "markdown",
   "metadata": {},
   "source": [
    "#### 3.숫자 1보다 크고 10보다 작은 값 n을 입력으로 받아서 다음과 같이 출력할 수 있는 프로그램을 작성해보시오."
   ]
  },
  {
   "cell_type": "markdown",
   "metadata": {},
   "source": [
    "- n을 입력하시오 : 5\n",
    "-  1  2  3  4  5\n",
    "- 10  9  8  7  6\n",
    "- 11 12 13 14 15\n",
    "- 20 19 18 17 16\n",
    "- 21 22 23 24 25"
   ]
  },
  {
   "cell_type": "code",
   "execution_count": 27,
   "metadata": {},
   "outputs": [
    {
     "name": "stdout",
     "output_type": "stream",
     "text": [
      "n을 입력하시오 : 7\n",
      "  1   2   3   4   5   6   7 \n",
      " 14  13  12  11  10   9   8 \n",
      " 15  16  17  18  19  20  21 \n",
      " 28  27  26  25  24  23  22 \n",
      " 29  30  31  32  33  34  35 \n",
      " 42  41  40  39  38  37  36 \n",
      " 43  44  45  46  47  48  49 \n"
     ]
    }
   ],
   "source": [
    "n = int(input('n을 입력하시오 : '))\n",
    "\n",
    "row = 1\n",
    "t = 0\n",
    "\n",
    "for i in range(1,n * n + 1):\n",
    "    if row % 2 == 1:\n",
    "        t = 0\n",
    "        print('{:3d}'.format(i),end=' ')\n",
    "        if i % n == 0:\n",
    "            row = row + 1\n",
    "            print()\n",
    "    \n",
    "    else:\n",
    "        print('{:3d}'.format(row*n-t),end=' ')\n",
    "        t = t+1\n",
    "        if i % n ==0:\n",
    "            row += 1\n",
    "            print()"
   ]
  },
  {
   "cell_type": "markdown",
   "metadata": {},
   "source": [
    "#### 4.(튜플변수) 다음 프로그램의 결과를 예측해보시오."
   ]
  },
  {
   "cell_type": "code",
   "execution_count": 46,
   "metadata": {},
   "outputs": [
    {
     "name": "stdout",
     "output_type": "stream",
     "text": [
      "(10, 20, 30)\n",
      "10 20 30\n",
      "(10,)\n",
      "(10, 20, 30, 40, 50, 70)\n",
      "6\n",
      "(10, 20, 30, 40, 50, 70, 10, 20, 30, 40, 50, 70, 10, 20, 30, 40, 50, 70)\n",
      "(10, 20, 30) (10, 20, 30)\n",
      "10\n",
      "(10,)\n",
      "10 20 30\n"
     ]
    }
   ],
   "source": [
    "tuple_test1 = (10,20,30)\n",
    "tuble_test2 = (40,50,70)\n",
    "\n",
    "print(tuple_test1)\n",
    "print(tuple_test1[0],tuple_test1[1],tuple_test1[2])\n",
    "print(tuple_test1[0:1])\n",
    "\n",
    "tuple_test3 = tuple_test1 + tuble_test2\n",
    "print(tuple_test3)\n",
    "print(len(tuple_test3))\n",
    "print(tuple_test3*3)\n",
    "\n",
    "a1 = (10,20,30)\n",
    "a2=10,20,30\n",
    "print(a1,a2)\n",
    "\n",
    "a1 = 10\n",
    "a2 = 10,\n",
    "print(a1)\n",
    "print(a2)\n",
    "\n",
    "a3,a4,a5 = (10,20,30)\n",
    "print(a3,a4,a5)\n"
   ]
  },
  {
   "cell_type": "markdown",
   "metadata": {},
   "source": [
    "### 5. 튜플 변수를 이용하여 두수를 교환하는 프로그램을 작성 하시오. divmod함수와 enumerate 함수는 결과로 튜플을 돌려주는 함수이다.사용법을 예로 들어보이시오"
   ]
  },
  {
   "cell_type": "code",
   "execution_count": 64,
   "metadata": {},
   "outputs": [
    {
     "name": "stdout",
     "output_type": "stream",
     "text": [
      "교환 전 :  x =  20 y =  30\n",
      "교환 후 :  x =  30 y =  20\n",
      "한번 더 :  x =  20 y =  30\n",
      "45 를  6 로 나누었을 때의 몫은  7 나머지는  3\n",
      "0  :  a\n",
      "1  :  b\n",
      "2  :  c\n",
      "3  :  d\n",
      "4  :  e\n"
     ]
    }
   ],
   "source": [
    "x , y = 20,30\n",
    "print('교환 전 : ','x = ',x,'y = ',y)\n",
    "x,y = y,x\n",
    "print('교환 후 : ','x = ',x,'y = ',y)\n",
    "\n",
    "tmp = x\n",
    "x = y\n",
    "y = tmp\n",
    "print('한번 더 : ','x = ',x,'y = ',y)\n",
    "a , b = 45 , 6\n",
    "q,r = divmod(a,b) #몫과 나머지\n",
    "print(a,'를 ',b,'로 나누었을 때의 몫은 ', q,'나머지는 ',r)\n",
    "\n",
    "list_data = ['a','b','c','d','e']\n",
    "\n",
    "for (i,v) in enumerate(list_data): #인덱스 번호와 내용이 동시에 들어옴\n",
    "    print(i,' : ',v)\n",
    "    k = k+1"
   ]
  },
  {
   "cell_type": "markdown",
   "metadata": {},
   "source": [
    "### 6.(딕셔너리 변수 : 딕셔너리 변수는 키와 값의 쌍으로 구성된다) 다음 프로그램의 결과를 예측해보시오"
   ]
  },
  {
   "cell_type": "code",
   "execution_count": 2,
   "metadata": {},
   "outputs": [
    {
     "name": "stdout",
     "output_type": "stream",
     "text": [
      "a b c\n",
      "{'학과': '의료IT공학과', '학번': 20150041, '이름': '홍길동', '취미': ['탁구', '영화보기', '프로그래밍']}\n",
      "의료IT공학과 20150041 홍길동 ['탁구', '영화보기', '프로그래밍']\n",
      "탁구\n",
      "{'학과': '의료IT공학과', '학번': '20150039', '이름': '홍길동', '취미': ['탁구', '영화보기', '프로그래밍'], '전화번호': '010-123-4567'}\n",
      "{'학과': '의료IT공학과', '학번': '20150039', '이름': '홍길동', '취미': ['탁구', '영화보기', '프로그래밍']}\n",
      "키값이 있는 지 확인 : ㄴ아\n",
      "입력한 키값은 없습니다.\n"
     ]
    }
   ],
   "source": [
    "dict_1 = {1 : 'a',7 : 'b', 100: 'c'} # {1:'a',2:'b',3:'c'}\n",
    "print(dict_1[1],dict_1[7],dict_1[100])\n",
    "\n",
    "dict_2 = {'학과' : '의료IT공학과','학번':20150041,'이름':'홍길동','취미':['탁구','영화보기','프로그래밍']}\n",
    "print(dict_2)\n",
    "print(dict_2['학과'],dict_2 ['학번'],dict_2['이름'],dict_2['취미'])\n",
    "print(dict_2['취미'][0])\n",
    "\n",
    "\n",
    "dict_2['전화번호'] = '010-123-4567'\n",
    "dict_2['학번']='20150039'\n",
    "print(dict_2)\n",
    "\n",
    "del(dict_2['전화번호'])\n",
    "print(dict_2)\n",
    "\n",
    "key = input(\"키값이 있는 지 확인 : \")\n",
    "\n",
    "if key in dict_2.keys():   # dict_2.keys() = ['학과', '학번','이름','취미']\n",
    "    print(dict_2[key])\n",
    "else:\n",
    "    print('입력한 키값은 없습니다.')"
   ]
  },
  {
   "cell_type": "markdown",
   "metadata": {},
   "source": [
    "### 7.(딕셔너리 변수에서 많이 사용하는 함수) 다음 프로그램의 결과를 예측해보시오"
   ]
  },
  {
   "cell_type": "code",
   "execution_count": null,
   "metadata": {},
   "outputs": [],
   "source": []
  }
 ],
 "metadata": {
  "kernelspec": {
   "display_name": "Python 3",
   "language": "python",
   "name": "python3"
  },
  "language_info": {
   "codemirror_mode": {
    "name": "ipython",
    "version": 3
   },
   "file_extension": ".py",
   "mimetype": "text/x-python",
   "name": "python",
   "nbconvert_exporter": "python",
   "pygments_lexer": "ipython3",
   "version": "3.7.6"
  }
 },
 "nbformat": 4,
 "nbformat_minor": 4
}
