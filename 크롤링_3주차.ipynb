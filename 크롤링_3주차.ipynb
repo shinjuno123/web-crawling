{
 "cells": [
  {
   "cell_type": "markdown",
   "metadata": {},
   "source": [
    "## 1. CSS selector 사용해보기\n",
    "- select() 함수 안에 태그와 class 이름을 같이 넣어서 사용할 수 있으며 아래와 같이 다양한 방법으로 사용할 수 있다. \n",
    " - select('태그')\n",
    " - select('태그.클래스이름')\n",
    " - select('.클래스이름') # 클래스 이름만으로 검색\n",
    " - select('태그.클래스이름.클래스이름') # 클래스가 두개 이상 들어가 있을 때\n",
    " - select('태그 태그 태그...) # 태그들의 상하관계를 공백으로 구분하여 사용\n",
    " - select('태그 > 태그 > 태그)  태그들의 계층을 고려한 상하관계를 공백으로 구분하여 사용 \n",
    " - select('#아이디이름') # id 이름만으로 검색\n",
    " - 위의 것들을 복합하여 사용가능 \n",
    "- select() 함수는 결과를 항상 리스트 형태로 돌려준다.\n",
    " - 반면엔 find() 함수는 제일 처음에 만나는 태그와 텍스트를 돌려주고, \n",
    " - find_all() 함수는 결과를 항상 리스트 형태로 돌려준다."
   ]
  },
  {
   "cell_type": "code",
   "execution_count": 15,
   "metadata": {},
   "outputs": [
    {
     "name": "stdout",
     "output_type": "stream",
     "text": [
      "[<h3 class=\"tit_view\" data-translation=\"true\">코로나19 '유전자 지도' 만든 김빛내리 아직 못다한 이야기</h3>, <h3 class=\"txt_newsview\">많이본 뉴스</h3>, <h3 class=\"txt_newsview\">포토&amp;TV</h3>, <h3 class=\"txt_newsview\">실시간 주요이슈</h3>]\n",
      "코로나19 '유전자 지도' 만든 김빛내리 아직 못다한 이야기\n",
      "많이본 뉴스\n",
      "포토&TV\n",
      "실시간 주요이슈\n",
      "코로나19 '유전자 지도' 만든 김빛내리 아직 못다한 이야기\n",
      "<h3 class=\"tit_view\" data-translation=\"true\">코로나19 '유전자 지도' 만든 김빛내리 아직 못다한 이야기</h3>\n",
      "코로나19 '유전자 지도' 만든 김빛내리 아직 못다한 이야기\n",
      "[<title>코로나19 '유전자 지도' 만든 김빛내리 아직 못다한 이야기</title>]\n",
      "코로나19 '유전자 지도' 만든 김빛내리 아직 못다한 이야기\n",
      "[<p dmcf-pid=\"jvoTW8R2dt\" dmcf-ptype=\"general\">[편집자주] 기초과학연구원(IBS)은 코로나바이러스감염증-19(COVID-19, 이하 코로나19)와 질환의 원인이 되는 사스코로나바이러스-2(SARS-CoV-2 또는 2019-nCoV)에 대한 과학 지식과 최신 연구동향을 담은 ‘코로나19 과학리포트’를 발행하고 있다. IBS 과학자들이 국내외 연구동향과 과학적 이슈, 신종 바이러스 예방·진단·치료에 도움이 될 만한 연구진행 상황과 아이디어 등을 공유한다.</p>, <p dmcf-pid=\"jRgXJarlZ4\" dmcf-ptype=\"general\">전 세계를 공포와 공황으로 몰아넣은 사스코로나바이러스-2의 정체는 무엇일까? 코로나19 팬데믹을 인류의 승리로 끝내려면 우선 우리가 맞서고 있는 적을 알아야 한다.</p>, <p dmcf-pid=\"jK7cr5VCWL\" dmcf-ptype=\"general\">바이러스는 한 마디로 ‘단백질로 둘러싸인 핵산’이다. 핵산의 종류에 따라 ‘DNA 바이러스’와 ‘RNA 바이러스’로 나뉘는데, 그중에서도 RNA 바이러스들은 유난히 말썽을 피우는 악동들이다. 코로나바이러스 역시 RNA를 유전체로 이용하는 RNA 바이러스 일종이다. RNA 바이러스는 증식 과정에서 돌연변이를 자주 일으킨다. 치료제 내성이 잘 생기고, 백신도 종종 무용지물이 된다. 게다가 돌연변이를 거쳐 숙주를 바꿀 수 있으므로 동물의 바이러스라도 종간 장벽을 넘어 인간에게 넘어 올 수 있다.</p>, <p dmcf-pid=\"jxuR1RYyc2\" dmcf-ptype=\"general\">코로나 계열 바이러스 이외에도 악명을 떨친 RNA 바이러스는 아주 많다. 20세기 초에 수천만 명을 죽이고 아직도 유행하는 인플루엔자 바이러스, 매년 백만 명 가까이 사망자를 내는 후천성면역결핍증(AIDS) 원인 바이러스인 인간면역결핍 바이러스(HIV), 50%가 넘는 가공할 치사율을 보이는 에볼라바이러스, 브라질 올림픽의 훼방꾼 지카바이러스 등이 대표적이다. 보통 RNA는 불안정한 물질로 알려져 있다. 그런데 어떻게 이런 물질이 몇 달 만에 전 세계로 퍼질 수 있었을까?</p>, <p dmcf-pid=\"jsxlaU2h6D\" dmcf-ptype=\"general\">사스코로나바이러스-2의 gRNA는 약 3만 개의 염기가 일렬로 이어져 있다. 인간 RNA의 염기가 평균 3000개이고, HIV의 RNA가 약 1만 개의 염기로 이뤄져 있다는 것을 고려하면 사스코로나바이러스-2의 gRNA는 특이할 정도로 큰 RNA다.</p>, <p dmcf-pid=\"j5fQGLSNPR\" dmcf-ptype=\"general\">바이러스는 입자 표면의 스파이크단백질(S protein)을 이용해 세포 표면의 수용체 ACE2와 결한한 뒤, 세포 안으로 들어갈 수 있다. 일단 침투에 성공하면 바이러스의 껍질을 이루는 지질막과 단백질들이 떨어져 나가는데, 단백질 껍질에서 풀려난 gRNA는 이때부터 아주 바빠진다.</p>, <p dmcf-pid=\"jJ8Nbbum8E\" dmcf-ptype=\"general\">gRNA가 가장 먼저 하는 일은 자신을 복제해 줄 효소를 생산하는 것이다(Sola et al., 2015, Ann. Rev. Virol). 효소 생산을 위해서는 숙주 세포의 단백질 생산 공장인 리보솜이 활용된다. 바이러스 gRNA의 앞쪽 3분의 2정도에 ORF1이라고 불리는 긴 유전자가 있다. 이 유전자가 만드는 엄청나게 긴 단백질에는 단백질을 자르는 효소 기능을 갖춘 부분이 있어(단백질 분해효소 또는 단백질 가위 라고 부른다) 스스로를 16개의 조각으로 절단한다.</p>, <p dmcf-pid=\"jsDzhhQwJJ\" dmcf-ptype=\"general\">비구조단백질 중 하나인 nsp12는 RNA중합효소(RdRP·RNA-dependent RNA Polymerase)로서 기능을 갖는다(Snijder et al., Advances in Virus Research, 2016). RNA중합효소는 복제 기계라 할 수 있다. 바이러스의 RNA를 대량으로 복제하고 전사체(유전자가 단백질을 생산할 때 활용하는 매개 물질)를 생산한다. RNA중합효소는 단일 가닥인 gRNA를 주물로 활용하여 그 반대 가닥을 만든다. RNA 가닥을 구분하기 위해 gRNA를 양성 가닥(positive-sense RNA), 그 반대쪽을 음성 가닥(negative-sense RNA)이라 부른다. 음성 가닥 RNA는 다시 주물이 되어 양성 가닥을 대량 생산하는데 사용된다. 이 과정을 거치면 단 한 개의 gRNA가 세포에 들어가도 수만 개의 자손 gRNA가 만들어진다.</p>, <p dmcf-pid=\"jGKR5NLII6\" dmcf-ptype=\"general\">이러한 돌연변이들은 대부분 바이러스 생존에 불리하게 작용한다. 그러나 드물게는 오히려 감염성을 높이거나 종간 장벽(가령, 천산갑에서 인간으로)을 넘을 수 있게 만들어 바이러스의 생존력과 전파력을 높이게 된다. 하지만, 전문가들은 단기간의 유행 중에 나타나는 변이들이 더 전파력이 강한 변종바이러스를 만들 가능성은 극히 낮은 것으로 보고 있다. 최근 유럽에서 유행한 사스코로나바이러스-2 변종들이 더 치사율이 높다는 가설도 있으나, 충분한 분석에 기반한 주장은 아니기 때문에 너무 걱정할 필요는 없어 보인다.</p>, <p dmcf-pid=\"jNKNedh7l1\" dmcf-ptype=\"general\"><br/>우리 연구단은 RNA의 염기서열을 분석하여 신종코로나바이러스-2가 숙주 세포 안에서 생산한 모든 RNA를 찾아내고, 최소 9종류의 sgRNA가 만들어진다는 사실을 발견했다(Kim et al., 2020). 기존에 10종류의 sgRNA가 있다고 알려져 있었지만, 그중 9종만 실제로 존재함을 확인한 것이다. 구조단백질인 뉴클리오캡시드단백질(N), 스파이크단백질(S), 막단백질(M), 외피단백질(E)을 만드는 sgRNA들과 악세서리단백질(ORF3a, ORF6, ORF7a, ORF7b, ORF8)을 만드는 sgRNA들이 이에 해당한다.</p>, <p dmcf-pid=\"jx5rvJkQaM\" dmcf-ptype=\"general\">N sgRNA는 N 단백질 이외에도 ORF9b라는 단백질도 만들 수 있다. 이중 스파이크단백질을 수용성 재조합단백질로 만들어 바이러스가 세포에 들어가는 과정을 방해하려는 치료 전략도 최근에 제시되었다. 스파이크단백질 뿐 아니라 다른 바이러스 단백질들도 잠재적으로 치료제의 타깃이 될 수 있다. 아래 표에 바이러스 단백질의 기능을 정리했다. 사스코로나바이러스-2에 대한 연구는 아직 미진하기 때문에, 기존 다른 코로나바이러스에 대한 연구에 기반하여 추정한 것이다.</p>, <p dmcf-pid=\"jGjebm9eTA\" dmcf-ptype=\"general\">적게나마 우리 연구단이 잘 할 수 있는 일을 통해 사회에 도움이 되어 보자는 의견이 연구단 내에서 모아졌다. 바이러스 샘플을 얻기 위해 동분서주하던 중에 연구재단 노정혜 이사장과 질병관리본부 정은경 본부장께서 도와주셨다. 2월말에 샘플을 받아 실험을 시작할 때는 이미 대구에서 폭발적으로 환자가 늘고 있었다. 모든 실험을 한 치의 실수도 없이 진행해야 하는 급박한 상황이었다. 첫 실험은 금요일 저녁 7시에 시작됐다. 필자는 실험을 맡은 김동완 연구원(제1저자)이 긴장된 표정으로 바이러스 RNA를 추출하는 것을 지켜보며 실험을 도와주었다. 그 후 모든 팀원이 주말도 잊고 실험과 분석에 매진해서 3월 중순에 논문을 제출할 수 있었다. 셀(Cell)도 신속하게 동료심사와 수정과정을 마쳐주어서 4월 초에 논문이 발표되었다.</p>, <p dmcf-pid=\"jWjliH1IZE\" dmcf-ptype=\"general\">보통은 수개월 이상이 걸릴 일을 이렇게 짧은 기간에 마칠 수 있었던 것은, 사실 수년에 걸쳐 미리 준비가 되어 있었기 때문이다. 무엇보다 연구단이 최신 차세대 염기서열 분석장비를 갖추고 우수한 과학자를 미리 합류시켰기에 가능했던 일이다. 8년 가까이 장기적으로 IBS 연구단을 운영할 수 있도록 과학기술정통부에서 지원해온 것이 든든한 토대가 되었다. 감염병 사태는 이번으로 끝나지 않을 것이다. 탄탄한 기초과학 위에서 언제나 준비된 대한민국이 되기를 희망해 본다.</p>, <p dmcf-pid=\"jCO9kvPtdx\" dmcf-ptype=\"general\">출처=글 | 김빛내리 기초과학연구원(IBS) RNA 연구단장(서울대 생명과학부 석좌교수)</p>, <p dmcf-pid=\"jcx99aUWlx\" dmcf-ptype=\"general\">편집 | IBS 커뮤니케이션팀</p>]\n",
      "[편집자주] 기초과학연구원(IBS)은 코로나바이러스감염증-19(COVID-19, 이하 코로나19)와 질환의 원인이 되는 사스코로나바이러스-2(SARS-CoV-2 또는 2019-nCoV)에 대한 과학 지식과 최신 연구동향을 담은 ‘코로나19 과학리포트’를 발행하고 있다. IBS 과학자들이 국내외 연구동향과 과학적 이슈, 신종 바이러스 예방·진단·치료에 도움이 될 만한 연구진행 상황과 아이디어 등을 공유한다.\n",
      "[편집자주] 기초과학연구원(IBS)은 코로나바이러스감염증-19(COVID-19, 이하 코로나19)와 질환의 원인이 되는 사스코로나바이러스-2(SARS-CoV-2 또는 2019-nCoV)에 대한 과학 지식과 최신 연구동향을 담은 ‘코로나19 과학리포트’를 발행하고 있다. IBS 과학자들이 국내외 연구동향과 과학적 이슈, 신종 바이러스 예방·진단·치료에 도움이 될 만한 연구진행 상황과 아이디어 등을 공유한다.\n",
      "전 세계를 공포와 공황으로 몰아넣은 사스코로나바이러스-2의 정체는 무엇일까? 코로나19 팬데믹을 인류의 승리로 끝내려면 우선 우리가 맞서고 있는 적을 알아야 한다.\n",
      "바이러스는 한 마디로 ‘단백질로 둘러싸인 핵산’이다. 핵산의 종류에 따라 ‘DNA 바이러스’와 ‘RNA 바이러스’로 나뉘는데, 그중에서도 RNA 바이러스들은 유난히 말썽을 피우는 악동들이다. 코로나바이러스 역시 RNA를 유전체로 이용하는 RNA 바이러스 일종이다. RNA 바이러스는 증식 과정에서 돌연변이를 자주 일으킨다. 치료제 내성이 잘 생기고, 백신도 종종 무용지물이 된다. 게다가 돌연변이를 거쳐 숙주를 바꿀 수 있으므로 동물의 바이러스라도 종간 장벽을 넘어 인간에게 넘어 올 수 있다.\n",
      "코로나 계열 바이러스 이외에도 악명을 떨친 RNA 바이러스는 아주 많다. 20세기 초에 수천만 명을 죽이고 아직도 유행하는 인플루엔자 바이러스, 매년 백만 명 가까이 사망자를 내는 후천성면역결핍증(AIDS) 원인 바이러스인 인간면역결핍 바이러스(HIV), 50%가 넘는 가공할 치사율을 보이는 에볼라바이러스, 브라질 올림픽의 훼방꾼 지카바이러스 등이 대표적이다. 보통 RNA는 불안정한 물질로 알려져 있다. 그런데 어떻게 이런 물질이 몇 달 만에 전 세계로 퍼질 수 있었을까?\n",
      "사스코로나바이러스-2의 gRNA는 약 3만 개의 염기가 일렬로 이어져 있다. 인간 RNA의 염기가 평균 3000개이고, HIV의 RNA가 약 1만 개의 염기로 이뤄져 있다는 것을 고려하면 사스코로나바이러스-2의 gRNA는 특이할 정도로 큰 RNA다.\n",
      "바이러스는 입자 표면의 스파이크단백질(S protein)을 이용해 세포 표면의 수용체 ACE2와 결한한 뒤, 세포 안으로 들어갈 수 있다. 일단 침투에 성공하면 바이러스의 껍질을 이루는 지질막과 단백질들이 떨어져 나가는데, 단백질 껍질에서 풀려난 gRNA는 이때부터 아주 바빠진다.\n",
      "gRNA가 가장 먼저 하는 일은 자신을 복제해 줄 효소를 생산하는 것이다(Sola et al., 2015, Ann. Rev. Virol). 효소 생산을 위해서는 숙주 세포의 단백질 생산 공장인 리보솜이 활용된다. 바이러스 gRNA의 앞쪽 3분의 2정도에 ORF1이라고 불리는 긴 유전자가 있다. 이 유전자가 만드는 엄청나게 긴 단백질에는 단백질을 자르는 효소 기능을 갖춘 부분이 있어(단백질 분해효소 또는 단백질 가위 라고 부른다) 스스로를 16개의 조각으로 절단한다.\n",
      "비구조단백질 중 하나인 nsp12는 RNA중합효소(RdRP·RNA-dependent RNA Polymerase)로서 기능을 갖는다(Snijder et al., Advances in Virus Research, 2016). RNA중합효소는 복제 기계라 할 수 있다. 바이러스의 RNA를 대량으로 복제하고 전사체(유전자가 단백질을 생산할 때 활용하는 매개 물질)를 생산한다. RNA중합효소는 단일 가닥인 gRNA를 주물로 활용하여 그 반대 가닥을 만든다. RNA 가닥을 구분하기 위해 gRNA를 양성 가닥(positive-sense RNA), 그 반대쪽을 음성 가닥(negative-sense RNA)이라 부른다. 음성 가닥 RNA는 다시 주물이 되어 양성 가닥을 대량 생산하는데 사용된다. 이 과정을 거치면 단 한 개의 gRNA가 세포에 들어가도 수만 개의 자손 gRNA가 만들어진다.\n",
      "이러한 돌연변이들은 대부분 바이러스 생존에 불리하게 작용한다. 그러나 드물게는 오히려 감염성을 높이거나 종간 장벽(가령, 천산갑에서 인간으로)을 넘을 수 있게 만들어 바이러스의 생존력과 전파력을 높이게 된다. 하지만, 전문가들은 단기간의 유행 중에 나타나는 변이들이 더 전파력이 강한 변종바이러스를 만들 가능성은 극히 낮은 것으로 보고 있다. 최근 유럽에서 유행한 사스코로나바이러스-2 변종들이 더 치사율이 높다는 가설도 있으나, 충분한 분석에 기반한 주장은 아니기 때문에 너무 걱정할 필요는 없어 보인다.\n",
      "우리 연구단은 RNA의 염기서열을 분석하여 신종코로나바이러스-2가 숙주 세포 안에서 생산한 모든 RNA를 찾아내고, 최소 9종류의 sgRNA가 만들어진다는 사실을 발견했다(Kim et al., 2020). 기존에 10종류의 sgRNA가 있다고 알려져 있었지만, 그중 9종만 실제로 존재함을 확인한 것이다. 구조단백질인 뉴클리오캡시드단백질(N), 스파이크단백질(S), 막단백질(M), 외피단백질(E)을 만드는 sgRNA들과 악세서리단백질(ORF3a, ORF6, ORF7a, ORF7b, ORF8)을 만드는 sgRNA들이 이에 해당한다.\n",
      "N sgRNA는 N 단백질 이외에도 ORF9b라는 단백질도 만들 수 있다. 이중 스파이크단백질을 수용성 재조합단백질로 만들어 바이러스가 세포에 들어가는 과정을 방해하려는 치료 전략도 최근에 제시되었다. 스파이크단백질 뿐 아니라 다른 바이러스 단백질들도 잠재적으로 치료제의 타깃이 될 수 있다. 아래 표에 바이러스 단백질의 기능을 정리했다. 사스코로나바이러스-2에 대한 연구는 아직 미진하기 때문에, 기존 다른 코로나바이러스에 대한 연구에 기반하여 추정한 것이다.\n",
      "적게나마 우리 연구단이 잘 할 수 있는 일을 통해 사회에 도움이 되어 보자는 의견이 연구단 내에서 모아졌다. 바이러스 샘플을 얻기 위해 동분서주하던 중에 연구재단 노정혜 이사장과 질병관리본부 정은경 본부장께서 도와주셨다. 2월말에 샘플을 받아 실험을 시작할 때는 이미 대구에서 폭발적으로 환자가 늘고 있었다. 모든 실험을 한 치의 실수도 없이 진행해야 하는 급박한 상황이었다. 첫 실험은 금요일 저녁 7시에 시작됐다. 필자는 실험을 맡은 김동완 연구원(제1저자)이 긴장된 표정으로 바이러스 RNA를 추출하는 것을 지켜보며 실험을 도와주었다. 그 후 모든 팀원이 주말도 잊고 실험과 분석에 매진해서 3월 중순에 논문을 제출할 수 있었다. 셀(Cell)도 신속하게 동료심사와 수정과정을 마쳐주어서 4월 초에 논문이 발표되었다.\n",
      "보통은 수개월 이상이 걸릴 일을 이렇게 짧은 기간에 마칠 수 있었던 것은, 사실 수년에 걸쳐 미리 준비가 되어 있었기 때문이다. 무엇보다 연구단이 최신 차세대 염기서열 분석장비를 갖추고 우수한 과학자를 미리 합류시켰기에 가능했던 일이다. 8년 가까이 장기적으로 IBS 연구단을 운영할 수 있도록 과학기술정통부에서 지원해온 것이 든든한 토대가 되었다. 감염병 사태는 이번으로 끝나지 않을 것이다. 탄탄한 기초과학 위에서 언제나 준비된 대한민국이 되기를 희망해 본다.\n",
      "출처=글 | 김빛내리 기초과학연구원(IBS) RNA 연구단장(서울대 생명과학부 석좌교수)\n",
      "편집 | IBS 커뮤니케이션팀\n",
      "\n",
      "류준영 기자\n",
      "류준영 기자\n",
      "입력 2020.04.30. 11:10\n",
      "수정 2020.04.30. 11:13\n"
     ]
    }
   ],
   "source": [
    "import requests \n",
    "from bs4 import BeautifulSoup\n",
    "\n",
    "# 다음 홈페이지의 뉴스에서 IT 분야의 헤드 타이틀과 내용을 select() 함수를 이용해서 크롤링해보기\n",
    "\n",
    "page = requests.get('https://news.v.daum.net/v/20200430111010078') # 크롤링 주소가 맞는지 확인 필요\n",
    "soup = BeautifulSoup(page.content,'html.parser')\n",
    "\n",
    "titles = soup.select('h3')  # select()함수는 결과를 리스트로 반환한다. \n",
    "print(titles) \n",
    "for title in titles :  \n",
    "    print(title.get_text())\n",
    "    \n",
    "datas = soup.select('h3.tit_view')      # data = soup.find('h3',class_='tit_view')\n",
    "#print(data)\n",
    "for data in datas :\n",
    "    print(data.get_text())       \n",
    "\n",
    "datas = soup.select('.tit_view')      # data = soup.find('h3',class_='tit_view')\n",
    "print(data)\n",
    "for data in datas :\n",
    "     print(data.get_text())    \n",
    "   \n",
    "datas = soup.select('html head title')    \n",
    "print(datas)\n",
    "for data in datas :\n",
    "    print(data.get_text())       \n",
    "    \n",
    "datas = soup.select('div > section > p')    \n",
    "print(datas)\n",
    "print(datas[0].get_text())\n",
    "for data in datas :\n",
    "    print(data.get_text())   \n",
    "\n",
    "print()    \n",
    "\n",
    "datas = soup.select('#cSub > div.head_view > span.info_view > span.txt_info') \n",
    "\n",
    "print(datas[0].get_text())\n",
    "for data in datas :\n",
    "    print(data.get_text())   \n",
    "\n"
   ]
  },
  {
   "cell_type": "code",
   "execution_count": 20,
   "metadata": {},
   "outputs": [
    {
     "name": "stdout",
     "output_type": "stream",
     "text": [
      "코로나19 '유전자 지도' 만든 김빛내리 아직 못다한 이야기\n",
      "[편집자주] 기초과학연구원(IBS)은 코로나바이러스감염증-19(COVID-19, 이하 코로나19)와 질환의 원인이 되는 사스코로나바이러스-2(SARS-CoV-2 또는 2019-nCoV)에 대한 과학 지식과 최신 연구동향을 담은 ‘코로나19 과학리포트’를 발행하고 있다. IBS 과학자들이 국내외 연구동향과 과학적 이슈, 신종 바이러스 예방·진단·치료에 도움이 될 만한 연구진행 상황과 아이디어 등을 공유한다.\n",
      "전 세계를 공포와 공황으로 몰아넣은 사스코로나바이러스-2의 정체는 무엇일까? 코로나19 팬데믹을 인류의 승리로 끝내려면 우선 우리가 맞서고 있는 적을 알아야 한다.\n",
      "바이러스는 한 마디로 ‘단백질로 둘러싸인 핵산’이다. 핵산의 종류에 따라 ‘DNA 바이러스’와 ‘RNA 바이러스’로 나뉘는데, 그중에서도 RNA 바이러스들은 유난히 말썽을 피우는 악동들이다. 코로나바이러스 역시 RNA를 유전체로 이용하는 RNA 바이러스 일종이다. RNA 바이러스는 증식 과정에서 돌연변이를 자주 일으킨다. 치료제 내성이 잘 생기고, 백신도 종종 무용지물이 된다. 게다가 돌연변이를 거쳐 숙주를 바꿀 수 있으므로 동물의 바이러스라도 종간 장벽을 넘어 인간에게 넘어 올 수 있다.\n",
      "코로나 계열 바이러스 이외에도 악명을 떨친 RNA 바이러스는 아주 많다. 20세기 초에 수천만 명을 죽이고 아직도 유행하는 인플루엔자 바이러스, 매년 백만 명 가까이 사망자를 내는 후천성면역결핍증(AIDS) 원인 바이러스인 인간면역결핍 바이러스(HIV), 50%가 넘는 가공할 치사율을 보이는 에볼라바이러스, 브라질 올림픽의 훼방꾼 지카바이러스 등이 대표적이다. 보통 RNA는 불안정한 물질로 알려져 있다. 그런데 어떻게 이런 물질이 몇 달 만에 전 세계로 퍼질 수 있었을까?\n",
      "사스코로나바이러스-2의 gRNA는 약 3만 개의 염기가 일렬로 이어져 있다. 인간 RNA의 염기가 평균 3000개이고, HIV의 RNA가 약 1만 개의 염기로 이뤄져 있다는 것을 고려하면 사스코로나바이러스-2의 gRNA는 특이할 정도로 큰 RNA다.\n",
      "바이러스는 입자 표면의 스파이크단백질(S protein)을 이용해 세포 표면의 수용체 ACE2와 결한한 뒤, 세포 안으로 들어갈 수 있다. 일단 침투에 성공하면 바이러스의 껍질을 이루는 지질막과 단백질들이 떨어져 나가는데, 단백질 껍질에서 풀려난 gRNA는 이때부터 아주 바빠진다.\n",
      "gRNA가 가장 먼저 하는 일은 자신을 복제해 줄 효소를 생산하는 것이다(Sola et al., 2015, Ann. Rev. Virol). 효소 생산을 위해서는 숙주 세포의 단백질 생산 공장인 리보솜이 활용된다. 바이러스 gRNA의 앞쪽 3분의 2정도에 ORF1이라고 불리는 긴 유전자가 있다. 이 유전자가 만드는 엄청나게 긴 단백질에는 단백질을 자르는 효소 기능을 갖춘 부분이 있어(단백질 분해효소 또는 단백질 가위 라고 부른다) 스스로를 16개의 조각으로 절단한다.\n",
      "비구조단백질 중 하나인 nsp12는 RNA중합효소(RdRP·RNA-dependent RNA Polymerase)로서 기능을 갖는다(Snijder et al., Advances in Virus Research, 2016). RNA중합효소는 복제 기계라 할 수 있다. 바이러스의 RNA를 대량으로 복제하고 전사체(유전자가 단백질을 생산할 때 활용하는 매개 물질)를 생산한다. RNA중합효소는 단일 가닥인 gRNA를 주물로 활용하여 그 반대 가닥을 만든다. RNA 가닥을 구분하기 위해 gRNA를 양성 가닥(positive-sense RNA), 그 반대쪽을 음성 가닥(negative-sense RNA)이라 부른다. 음성 가닥 RNA는 다시 주물이 되어 양성 가닥을 대량 생산하는데 사용된다. 이 과정을 거치면 단 한 개의 gRNA가 세포에 들어가도 수만 개의 자손 gRNA가 만들어진다.\n",
      "이러한 돌연변이들은 대부분 바이러스 생존에 불리하게 작용한다. 그러나 드물게는 오히려 감염성을 높이거나 종간 장벽(가령, 천산갑에서 인간으로)을 넘을 수 있게 만들어 바이러스의 생존력과 전파력을 높이게 된다. 하지만, 전문가들은 단기간의 유행 중에 나타나는 변이들이 더 전파력이 강한 변종바이러스를 만들 가능성은 극히 낮은 것으로 보고 있다. 최근 유럽에서 유행한 사스코로나바이러스-2 변종들이 더 치사율이 높다는 가설도 있으나, 충분한 분석에 기반한 주장은 아니기 때문에 너무 걱정할 필요는 없어 보인다.\n",
      "우리 연구단은 RNA의 염기서열을 분석하여 신종코로나바이러스-2가 숙주 세포 안에서 생산한 모든 RNA를 찾아내고, 최소 9종류의 sgRNA가 만들어진다는 사실을 발견했다(Kim et al., 2020). 기존에 10종류의 sgRNA가 있다고 알려져 있었지만, 그중 9종만 실제로 존재함을 확인한 것이다. 구조단백질인 뉴클리오캡시드단백질(N), 스파이크단백질(S), 막단백질(M), 외피단백질(E)을 만드는 sgRNA들과 악세서리단백질(ORF3a, ORF6, ORF7a, ORF7b, ORF8)을 만드는 sgRNA들이 이에 해당한다.\n",
      "N sgRNA는 N 단백질 이외에도 ORF9b라는 단백질도 만들 수 있다. 이중 스파이크단백질을 수용성 재조합단백질로 만들어 바이러스가 세포에 들어가는 과정을 방해하려는 치료 전략도 최근에 제시되었다. 스파이크단백질 뿐 아니라 다른 바이러스 단백질들도 잠재적으로 치료제의 타깃이 될 수 있다. 아래 표에 바이러스 단백질의 기능을 정리했다. 사스코로나바이러스-2에 대한 연구는 아직 미진하기 때문에, 기존 다른 코로나바이러스에 대한 연구에 기반하여 추정한 것이다.\n",
      "적게나마 우리 연구단이 잘 할 수 있는 일을 통해 사회에 도움이 되어 보자는 의견이 연구단 내에서 모아졌다. 바이러스 샘플을 얻기 위해 동분서주하던 중에 연구재단 노정혜 이사장과 질병관리본부 정은경 본부장께서 도와주셨다. 2월말에 샘플을 받아 실험을 시작할 때는 이미 대구에서 폭발적으로 환자가 늘고 있었다. 모든 실험을 한 치의 실수도 없이 진행해야 하는 급박한 상황이었다. 첫 실험은 금요일 저녁 7시에 시작됐다. 필자는 실험을 맡은 김동완 연구원(제1저자)이 긴장된 표정으로 바이러스 RNA를 추출하는 것을 지켜보며 실험을 도와주었다. 그 후 모든 팀원이 주말도 잊고 실험과 분석에 매진해서 3월 중순에 논문을 제출할 수 있었다. 셀(Cell)도 신속하게 동료심사와 수정과정을 마쳐주어서 4월 초에 논문이 발표되었다.\n",
      "보통은 수개월 이상이 걸릴 일을 이렇게 짧은 기간에 마칠 수 있었던 것은, 사실 수년에 걸쳐 미리 준비가 되어 있었기 때문이다. 무엇보다 연구단이 최신 차세대 염기서열 분석장비를 갖추고 우수한 과학자를 미리 합류시켰기에 가능했던 일이다. 8년 가까이 장기적으로 IBS 연구단을 운영할 수 있도록 과학기술정통부에서 지원해온 것이 든든한 토대가 되었다. 감염병 사태는 이번으로 끝나지 않을 것이다. 탄탄한 기초과학 위에서 언제나 준비된 대한민국이 되기를 희망해 본다.\n",
      "출처=글 | 김빛내리 기초과학연구원(IBS) RNA 연구단장(서울대 생명과학부 석좌교수)\n",
      "편집 | IBS 커뮤니케이션팀\n",
      "\n",
      "류준영 기자\n",
      "입력 2020.04.30. 11:10\n",
      "수정 2020.04.30. 11:13\n"
     ]
    }
   ],
   "source": [
    "import requests\n",
    "from bs4 import BeautifulSoup\n",
    "\n",
    "\n",
    "page = requests.get('https://news.v.daum.net/v/20200430111010078')\n",
    "soup = BeautifulSoup(page.content,'html.parser')\n",
    "\n",
    "title = soup.select('#cSub > div > h3')\n",
    "\n",
    "print(title[0].get_text())\n",
    "\n",
    "\n",
    "contents = soup.select('#harmonyContainer > section > p')\n",
    "\n",
    "for content in contents:\n",
    "    print(content.get_text())\n",
    "    \n",
    "print()\n",
    "writer = soup.select('#cSub > div > span > span')\n",
    "for item in writer:\n",
    "    print(item.get_text(),end='\\n')\n",
    "    "
   ]
  },
  {
   "cell_type": "markdown",
   "metadata": {},
   "source": [
    "## 2. 웹크롤링 리팩토링(크롤링 할 때  동일한 코드를 반복해서 사용하는 방법) \n",
    "- 네이버에서 블로그 검색(예를 들어 파이썬, 자바 ...)하는 방법\n",
    "- 네이버 검색창에 '파이썬' 또는 '자바' 라고 입력한 후 주소창에 있는 url 을 복사하여 비교해 본다. \n",
    "- (파이썬의 예) https://search.naver.com/search.naver?sm=top_hty&fbm=1&ie=utf8&query=%ED%8C%8C%EC%9D%B4%EC%8D%AC\n",
    "- (자바의 예)   https://search.naver.com/search.naver?sm=top_hty&fbm=1&ie=utf8&query=%EC%9E%90%EB%B0%94\n",
    "- url을 비교하여 다른 부분을 확인한 후 공통으로 들어가 있는 부분을 base_url 에 저장한다 \n",
    "- 다른 부분은 input 명령어를 이용하여 키보드에서 읽어서 plus_url 에 저장한다. \n",
    "- 검색하려는 주소를 base_url + plus_url 로 만든다. \n",
    "- 검색어가 한글을 포함할 경우는 주소를 base_url + urllib.parse.quote_plus(plus_url) 로 만든다. "
   ]
  },
  {
   "cell_type": "code",
   "execution_count": 31,
   "metadata": {},
   "outputs": [
    {
     "name": "stdout",
     "output_type": "stream",
     "text": [
      "검색어를 입력하세요 :안농\n",
      "코엑스 포켓몬 페스타 :: 포켓몬고 위크 인 코리아 후기, 이벤트 내용 정리 feat. 안농, 코산호\n",
      "https://blog.naver.com/wlgh325?Redirect=Log&logNo=221530171796\n",
      "\n",
      "포켓몬고 이브이 커뮤니티데이, 안농이벤트, 뮤츠레이드,이로치\n",
      "https://rayam.blog.me/221337708964\n",
      "\n",
      "포켓몬일지 18 - 2주 차 이벤트 시작 + 안녕 안농!\n",
      "https://aeunbilyu.blog.me/221644561886\n",
      "\n",
      "포켓몬고 10km알, 안농 부화 확률은 0.96%\n",
      "https://blog.naver.com/hanee218?Redirect=Log&logNo=221641780768\n",
      "\n",
      "190902 월 ::: 제주마지막날, 다가미김밥, 협재해변, 재암식당, 고기국수, 제주안농\n",
      "https://godloveyn.blog.me/221637324616\n",
      "\n"
     ]
    }
   ],
   "source": [
    "import requests \n",
    "from bs4 import BeautifulSoup\n",
    "import urllib.parse    # 한글로 된 질의를 인코딩하기 위해 quote_plus() 함수를 이용한다. \n",
    "\n",
    "#https://search.naver.com/search.naver?sm=top_hty&fbm=1&ie=utf8&query=%ED%8C%8C%EC%9D%B4%EC%8D%AC  (파이썬 페이지 주소)\n",
    "#https://search.naver.com/search.naver?sm=top_hty&fbm=1&ie=utf8&query=%EC%9E%90%EB%B0%94           (자바의 페이지 주소)\n",
    "\n",
    "base_url = 'https://search.naver.com/search.naver?sm=top_hty&fbm=1&ie=utf8&query='\n",
    "plus_url = input('검색어를 입력하세요 :')\n",
    "url = base_url + urllib.parse.quote_plus((plus_url)) \n",
    "                                         \n",
    "page = requests.get(url)\n",
    "soup = BeautifulSoup(page.content,'html.parser')  \n",
    "                                         \n",
    "title = soup.find_all('a',class_='sh_blog_title')\n",
    "#print(len(title))       \n",
    "\n",
    "for data in title :\n",
    "    print(data['title'])\n",
    "    print(data['href'])\n",
    "    print()                              \n"
   ]
  },
  {
   "cell_type": "code",
   "execution_count": 30,
   "metadata": {},
   "outputs": [
    {
     "name": "stdout",
     "output_type": "stream",
     "text": [
      "검색어 입력 : 안농\n",
      "https://blog.naver.com/wlgh325?Redirect=Log&logNo=221530171796\n",
      "코엑스 포켓몬 페스타 :: 포켓몬고 위크 인 코리아 후기, 이벤트 내용 정리 feat. 안농, 코산호\n",
      "https://rayam.blog.me/221337708964\n",
      "포켓몬고 이브이 커뮤니티데이, 안농이벤트, 뮤츠레이드,이로치\n",
      "https://aeunbilyu.blog.me/221644561886\n",
      "포켓몬일지 18 - 2주 차 이벤트 시작 + 안녕 안농!\n",
      "https://blog.naver.com/hanee218?Redirect=Log&logNo=221641780768\n",
      "포켓몬고 10km알, 안농 부화 확률은 0.96%\n",
      "https://godloveyn.blog.me/221637324616\n",
      "190902 월 ::: 제주마지막날, 다가미김밥, 협재해변, 재암식당, 고기국수, 제주안농\n"
     ]
    }
   ],
   "source": [
    "import requests\n",
    "from bs4 import BeautifulSoup\n",
    "import urllib.parse\n",
    "\n",
    "base_url = 'https://search.naver.com/search.naver?sm=top_hty&fbm=0&ie=utf8&query='\n",
    "plus_url = input('검색어 입력 : ')\n",
    "url = base_url + urllib.parse.quote_plus(plus_url)\n",
    "\n",
    "page = requests.get(url)\n",
    "soup = BeautifulSoup(page.content,'html.parser')\n",
    "\n",
    "blogs = soup.find_all('a',class_='sh_blog_title _sp_each_url _sp_each_title')\n",
    "\n",
    "\n",
    "for blog in blogs:\n",
    "    print(blog['href'])\n",
    "    print(blog['title'])\n"
   ]
  },
  {
   "cell_type": "markdown",
   "metadata": {},
   "source": [
    "## 3. 네이버 이미지 검색 결과 한번에 다운로드 받기\n",
    "- 네이버에서 이미지 검색(예를 들어 영화, 연예인 ...)하는 방법\n",
    "- 네이버 검색창에 '영화' 또는 '연예인' 이라고 입력한 후 이미지 탭을 선택한다. 주소창에 있는 url 을 복사하여 비교해 본다. \n",
    "- (영화의 예) https://search.naver.com/search.naver?where=image&sm=tab_jum&query=%EC%98%81%ED%99%94\n",
    "- (연예인 예) https://search.naver.com/search.naver?where=image&sm=tab_jum&query=%EC%97%B0%EC%98%88%EC%9D%B8\n",
    "- url을 비교하여 다른 부분을 확인한 후 공통으로 들어가 있는 부분을 base_url 에 저장한다 \n",
    "- 다른 부분은 input 명령어를 이용하여 키보드에서 읽어서 plus_url 에 저장한다. \n",
    "- 검색하려는 주소를 base_url + plus_url 로 만든다. \n",
    "- 검색어가 한글을 포함할 경우는 주소를 base_url + urllib.parse.quote_plus(plus_url) 로 만든다. "
   ]
  },
  {
   "cell_type": "code",
   "execution_count": 37,
   "metadata": {},
   "outputs": [
    {
     "name": "stdout",
     "output_type": "stream",
     "text": [
      "검색어를 입력하세요 :1\n",
      "50\n",
      "<img alt='숫자 1의 비밀 \"제곱을 해도 값은 1, 그리고 또…?\" | 포토뉴스' class=\"_img\" data-height=\"389\" data-source=\"https://search.pstatic.net/common/?src=http%3A%2F%2Fimgnews.naver.net%2Fimage%2F5186%2F2013%2F12%2F19%2F45994_32005_1257_59_20131219231401.jpg&amp;type=b400\" data-width=\"540\" onerror=\"var we=$Element(this); we.addClass('bg_nimg'); we.attr('alt','이미지준비중'); we.attr('src','data:image/gif;base64,R0lGODlhAQABAIAAAAAAAP///yH5BAEAAAAALAAAAAABAAEAAAIBRAA7');\" src=\"data:image/gif;base64,R0lGODlhAQABAIAAAAAAAP///yH5BAEAAAAALAAAAAABAAEAAAIBRAA7\"/>\n"
     ]
    },
    {
     "ename": "FileNotFoundError",
     "evalue": "[Errno 2] No such file or directory: './img/11.jpg'",
     "output_type": "error",
     "traceback": [
      "\u001b[1;31m---------------------------------------------------------------------------\u001b[0m",
      "\u001b[1;31mFileNotFoundError\u001b[0m                         Traceback (most recent call last)",
      "\u001b[1;32m<ipython-input-37-25ec95bf1cc3>\u001b[0m in \u001b[0;36m<module>\u001b[1;34m\u001b[0m\n\u001b[0;32m     23\u001b[0m     \u001b[0mimg_url\u001b[0m \u001b[1;33m=\u001b[0m \u001b[0mdata\u001b[0m\u001b[1;33m[\u001b[0m\u001b[1;34m'data-source'\u001b[0m\u001b[1;33m]\u001b[0m\u001b[1;33m\u001b[0m\u001b[1;33m\u001b[0m\u001b[0m\n\u001b[0;32m     24\u001b[0m     \u001b[1;32mwith\u001b[0m \u001b[0murlopen\u001b[0m\u001b[1;33m(\u001b[0m\u001b[0mimg_url\u001b[0m\u001b[1;33m)\u001b[0m \u001b[1;32mas\u001b[0m \u001b[0mrf\u001b[0m \u001b[1;33m:\u001b[0m\u001b[1;33m\u001b[0m\u001b[1;33m\u001b[0m\u001b[0m\n\u001b[1;32m---> 25\u001b[1;33m         \u001b[1;32mwith\u001b[0m \u001b[0mopen\u001b[0m\u001b[1;33m(\u001b[0m\u001b[1;34m'./img/'\u001b[0m \u001b[1;33m+\u001b[0m \u001b[0mplus_url\u001b[0m \u001b[1;33m+\u001b[0m \u001b[0mstr\u001b[0m\u001b[1;33m(\u001b[0m\u001b[0mn\u001b[0m\u001b[1;33m)\u001b[0m \u001b[1;33m+\u001b[0m \u001b[1;34m'.jpg'\u001b[0m\u001b[1;33m,\u001b[0m \u001b[1;34m'wb'\u001b[0m\u001b[1;33m)\u001b[0m \u001b[1;32mas\u001b[0m \u001b[0mwf\u001b[0m \u001b[1;33m:\u001b[0m\u001b[1;33m\u001b[0m\u001b[1;33m\u001b[0m\u001b[0m\n\u001b[0m\u001b[0;32m     26\u001b[0m             \u001b[0mimg\u001b[0m \u001b[1;33m=\u001b[0m \u001b[0mrf\u001b[0m\u001b[1;33m.\u001b[0m\u001b[0mread\u001b[0m\u001b[1;33m(\u001b[0m\u001b[1;33m)\u001b[0m\u001b[1;33m\u001b[0m\u001b[1;33m\u001b[0m\u001b[0m\n\u001b[0;32m     27\u001b[0m             \u001b[0mwf\u001b[0m\u001b[1;33m.\u001b[0m\u001b[0mwrite\u001b[0m\u001b[1;33m(\u001b[0m\u001b[0mimg\u001b[0m\u001b[1;33m)\u001b[0m\u001b[1;33m\u001b[0m\u001b[1;33m\u001b[0m\u001b[0m\n",
      "\u001b[1;31mFileNotFoundError\u001b[0m: [Errno 2] No such file or directory: './img/11.jpg'"
     ]
    }
   ],
   "source": [
    "import requests \n",
    "from bs4 import BeautifulSoup\n",
    "from urllib.parse import quote_plus   \n",
    "from urllib.request import urlopen   # urlopen(url) 함수는 url에 저장되어 있는 화일을 오픈하는 함수 \n",
    "\n",
    "#https://search.naver.com/search.naver?where=image&sm=tab_jum&query=%EC%98%81%ED%99%94 (영화 페이지 주소)\n",
    "#https://search.naver.com/search.naver?where=image&sm=tab_jum&query=%EC%97%B0%EC%98%88%EC%9D%B8 (연예인 페이지 주소)\n",
    "#실행시킬 파이썬 코드가 있는 폴더에 img 폴더를 미리 만들어 놓아야 한다.   \n",
    "    \n",
    "base_url = 'https://search.naver.com/search.naver?where=image&sm=tab_jum&query=' \n",
    "plus_url = input('검색어를 입력하세요 :')\n",
    "url = base_url + quote_plus(plus_url) \n",
    "\n",
    "page = requests.get(url)\n",
    "soup = BeautifulSoup(page.content,'html.parser')\n",
    "\n",
    "data_imgs = soup.find_all('img', class_ = '_img')\n",
    "print(len(data_imgs))\n",
    "print(data_imgs[0])\n",
    "\n",
    "n = 1 \n",
    "for data in data_imgs :\n",
    "    img_url = data['data-source']    \n",
    "    with urlopen(img_url) as rf :\n",
    "        with open('./img/' + plus_url + str(n) + '.jpg', 'wb') as wf :\n",
    "            img = rf.read() \n",
    "            wf.write(img)\n",
    "    n = n + 1            \n",
    "\n",
    "print('다운로드 완료')    "
   ]
  },
  {
   "cell_type": "code",
   "execution_count": 43,
   "metadata": {},
   "outputs": [
    {
     "name": "stdout",
     "output_type": "stream",
     "text": [
      "검색어 : 안농\n",
      "<img alt=\"포켓몬스터 골드/실버 [안농을 전부 잡으면 세레비를 주는지 알아봅시다.] | 카페\" class=\"_img\" data-height=\"565\" data-source=\"https://search.pstatic.net/common/?src=http%3A%2F%2Fcafefiles.naver.net%2F20120919_94%2Fbjoon98_1348058833791JTshJ_JPEG%2F%25B3%25F3%25B3%25F3%25BE%25C8%25B3%25F3.jpg&amp;type=b400\" data-width=\"317\" onerror=\"var we=$Element(this); we.addClass('bg_nimg'); we.attr('alt','이미지준비중'); we.attr('src','data:image/gif;base64,R0lGODlhAQABAIAAAAAAAP///yH5BAEAAAAALAAAAAABAAEAAAIBRAA7');\" src=\"data:image/gif;base64,R0lGODlhAQABAIAAAAAAAP///yH5BAEAAAAALAAAAAABAAEAAAIBRAA7\"/>\n",
      "다운로드 완료\n"
     ]
    }
   ],
   "source": [
    "import requests\n",
    "from bs4 import BeautifulSoup\n",
    "import urllib.parse\n",
    "from urllib.request import urlopen\n",
    "#https://search.naver.com/search.naver?where=image&sm=tab_jum&query=%EC%95%88%EB%86%8D\n",
    "\n",
    "base_url = 'https://search.naver.com/search.naver?where=image&sm=tab_jum&query='\n",
    "plus_url = input('검색어 : ')\n",
    "url = base_url + urllib.parse.quote_plus(plus_url)\n",
    "\n",
    "page = requests.get(url)\n",
    "soup = BeautifulSoup(page.content,'html.parser')\n",
    "\n",
    "datas = soup.find_all('img',class_='_img')\n",
    "print(datas[0])\n",
    "\n",
    "n=1\n",
    "\n",
    "for data in datas:\n",
    "    img_url = data['data-source']\n",
    "    with urlopen(img_url) as rf:\n",
    "        with open('./img/'+plus_url+str(n)+'.jpg','wb') as wf:\n",
    "            img = rf.read()\n",
    "            wf.write(img)\n",
    "    n += 1 \n",
    "    \n",
    "print('다운로드 완료')\n",
    "            \n",
    "            "
   ]
  }
 ],
 "metadata": {
  "kernelspec": {
   "display_name": "Python 3",
   "language": "python",
   "name": "python3"
  },
  "language_info": {
   "codemirror_mode": {
    "name": "ipython",
    "version": 3
   },
   "file_extension": ".py",
   "mimetype": "text/x-python",
   "name": "python",
   "nbconvert_exporter": "python",
   "pygments_lexer": "ipython3",
   "version": "3.7.6"
  }
 },
 "nbformat": 4,
 "nbformat_minor": 2
}
