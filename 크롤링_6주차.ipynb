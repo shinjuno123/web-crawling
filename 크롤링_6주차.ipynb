{
 "cells": [
  {
   "cell_type": "markdown",
   "metadata": {},
   "source": [
    "## 1. selenium을 이용한 웹페이지(브라우저) 자동화 프로그램\n",
    "- selenium 패키지 설치 : pip install selenium \n",
    "- 크롬(chrome)드라이버(chromedrive) 다운로드 후 설치 (https://chromedriver.chromium.org)\n",
    " - 크롬 버전은 크롬맞춤설정제어(브라우저 오른쪽 상단 점 3개)에서 도움말의 크롬정보로 확인 가능\n",
    " - 자기가 사용하는 크롬의 버전을 확인한 후 버전에 맞는 크롬드라이버를 설치한다.\n",
    " - 다운로드 받은 크롬드라이버의 압축을 푼 후 chromedriver.exe를 작성하는 코드가 있는 폴더에 저장한다.\n",
    "- 네이비 검색창에서 '파이썬' 입력 후 검색 결과를 보여주는 자동화 프로그램 만들어보기\n",
    "- 구글 검색창에서 '파이썬' 입력 후 검색 결과를 보여주는 자동화 프로그램 만들어보기\n",
    " - 검색 결과의 첫번째 제목을 눌렀을 때 해당 페이지로 이동하기까지  자동화\n",
    " - 검색 결과중 사용자가 원하는 순서의 제목을 눌렀을 때 해당 페이지로 이동하기까지  자동화 "
   ]
  },
  {
   "cell_type": "code",
   "execution_count": 19,
   "metadata": {},
   "outputs": [],
   "source": [
    "from selenium import webdriver\n",
    "from selenium.webdriver.common.keys import Keys\n",
    "import time\n",
    "\n",
    "# browser = webdriver.Chrome('./chromedriver.exe')\n",
    "# browser.get('https://www.naver.com')\n",
    "# time.sleep(2)\n",
    "\n",
    "# search = browser.find_element_by_css_selector('#query')\n",
    "# search.send_keys('파이썬')\n",
    "# time.sleep(1)\n",
    "# search.send_keys(Keys.ENTER)\n",
    "\n",
    "browser = webdriver.Chrome('./chromedriver.exe')\n",
    "browser.get('https://www.google.com')\n",
    "time.sleep(2)\n",
    "\n",
    "search = browser.find_element_by_css_selector('.gLFyf.gsfi')\n",
    "search.send_keys('파이썬')\n",
    "time.sleep(1)\n",
    "search.send_keys(Keys.ENTER)\n",
    "\n"
   ]
  },
  {
   "cell_type": "code",
   "execution_count": null,
   "metadata": {},
   "outputs": [],
   "source": []
  },
  {
   "cell_type": "markdown",
   "metadata": {},
   "source": [
    "## 2. 웹페이지 자동화 프로그램 만들어보기(매크로 프로그램) \n",
    "- 1 부터 50 까지의 숫자를 순서적으로 빠른 시간에 누르는 게임\n",
    "- 주소 : http://zzzscore.com/1to50/\n",
    "- 방법\n",
    " - 게임에 사용되는 버튼(div 태그로 되어 있음)에 대한 정보를 개발자 도구에서 copy Xpath 를 이용하여 가져온다.\n",
    " - 각 버튼에 쓰여져 있는 글자를 파악한다.\n",
    " - 파악한 글자가 눌러야 할 숫자이면 클릭한다.\n",
    " - 1부터 50까지 다 누를때 까지 반복한다."
   ]
  },
  {
   "cell_type": "code",
   "execution_count": 24,
   "metadata": {},
   "outputs": [],
   "source": [
    "from selenium import webdriver\n",
    "import time\n",
    "\n",
    "driver = webdriver.Chrome('./chromedriver.exe')\n",
    "driver.get('http://zzzscore.com/1to50/')\n",
    "time.sleep(3)\n",
    "\n",
    "num = 1\n",
    "while num <= 50:\n",
    "    btns = driver.find_elements_by_xpath('//*[@id=\"grid\"]/div[*]')\n",
    "    for btn in btns:\n",
    "        if btn.text == str(num):\n",
    "            btn.click()\n",
    "            num += 1    \n"
   ]
  },
  {
   "cell_type": "markdown",
   "metadata": {},
   "source": [
    "## 3. Selenium을 이용하여 구글 검색 결과 크롤링 해보기\n",
    "- 웹페이지 소스가 주로 자바 스크립트 코드로 작성되어 있는 경우\n",
    " - 페이지소스보기의 코드와 개발자 모드(F12)에서의 코드가 다른 경우 \n",
    " - 기존의 정적 크롤링 방식대로 프로그램 했는데 결과가 나오지 않는 경우\n",
    "- requests 패키지를 이용하지 않고 selenium 패키지의 webdriver 함수를 이용하여 크롤링한다"
   ]
  },
  {
   "cell_type": "code",
   "execution_count": 30,
   "metadata": {},
   "outputs": [
    {
     "name": "stdout",
     "output_type": "stream",
     "text": [
      "검색할 키워드 ? 파이썬\n",
      "파이썬 - 위키백과, 우리 모두의 백과사전\n",
      "ko.wikipedia.org › wiki › 파이썬\n",
      "https://ko.wikipedia.org/wiki/%ED%8C%8C%EC%9D%B4%EC%8D%AC\n",
      "\n",
      "파이썬 자습서 — Python 3.8.3rc1 문서\n",
      "docs.python.org › tutorial\n",
      "https://docs.python.org/ko/3/tutorial/index.html\n",
      "\n",
      "Python - 나무위키\n",
      "namu.wiki › Python\n",
      "https://namu.wiki/w/Python\n",
      "\n",
      "1. 파이썬 시작하기 - 왕초보를 위한 Python - WikiDocs\n",
      "wikidocs.net › ...\n",
      "https://wikidocs.net/43\n",
      "\n",
      "Python 코딩의 기초 - 예제로 배우는 파이썬 프로그래밍\n",
      "pythonstudy.xyz › python › article › 6-Python-코딩의-...\n",
      "http://pythonstudy.xyz/python/article/6-Python-%EC%BD%94%EB%94%A9%EC%9D%98-%EA%B8%B0%EC%B4%88\n",
      "\n",
      "파이썬의 인기는 언제까지 갈까? - Byline Network\n",
      "byline.network › 2020/03\n",
      "https://byline.network/2020/03/17-90/\n",
      "\n",
      "파이썬 코딩 도장: 1.3 파이썬\n",
      "dojang.io › 강좌 › 프로그래밍 › 파이썬 코딩 도장\n",
      "https://dojang.io/mod/page/view.php?id=2153\n",
      "\n",
      "파이썬이란? - 바로 실행해보면서 배우는 파이썬\n",
      "edu.goorm.io › learn › lecture › lesson › 파이썬이란\n",
      "https://edu.goorm.io/learn/lecture/202/%EB%B0%94%EB%A1%9C-%EC%8B%A4%ED%96%89%ED%95%B4%EB%B3%B4%EB%A9%B4%EC%84%9C-%EB%B0%B0%EC%9A%B0%EB%8A%94-%ED%8C%8C%EC%9D%B4%EC%8D%AC/lesson/6037/%ED%8C%8C%EC%9D%B4%EC%8D%AC%EC%9D%B4%EB%9E%80\n",
      "\n"
     ]
    }
   ],
   "source": [
    "from bs4 import BeautifulSoup\n",
    "from urllib.parse import quote_plus\n",
    "from selenium import webdriver\n",
    "import time\n",
    "\n",
    "base_url = 'https://www.google.com/search?q='\n",
    "plus_url = input('검색할 키워드 ? ')\n",
    "url = base_url + quote_plus(plus_url)\n",
    "\n",
    "driver = webdriver.Chrome('./chromedriver.exe')\n",
    "driver.get(url)\n",
    "time.sleep(3)\n",
    "\n",
    "html = driver.page_source\n",
    "soup = BeautifulSoup(html)\n",
    "\n",
    "titles = soup.select('.r')\n",
    "for title in titles:\n",
    "    print(title.select_one('.LC20lb.DKV0Md').text)\n",
    "    print(title.select_one('.iUh30.bc.tjvcx').text)\n",
    "    print(title.a['href'])\n",
    "    print()\n"
   ]
  },
  {
   "cell_type": "markdown",
   "metadata": {},
   "source": [
    "## 4. Selenium을 이용하여 인스타그램 크롤링 해보기\n",
    "- 웹페이지 소스가 주로 자바 스크립트 코드로 작성되어 있다\n",
    " - 예를 들어 기존의 웹페이지에서는 페이지 번호를 누르면 해당 페이지로 이동하지만, \n",
    " - 자바스크립트로 구성된 웹페이지는위아래로 스크롤할 때 자바스크립트가 실행되어 화면에 내용이 계속 보여진다.\n",
    " - 웹페이지를 불러 왔는데 이미지가 잠시 후에 화면에 보이는 경우 등 \n",
    "- requests 패키지를 이용하지 않고 selenium 패키지의 webdriver 함수를 이용하여 크롤링한다\n",
    "- 인스타그램 계정이 없는 경우,\n",
    " - 구글 검색창에서 '인스타그램 파이썬' 이라고 입력하고 검색한 후 나오는 결과중 파이썬 해시태그를 선택한다."
   ]
  },
  {
   "cell_type": "code",
   "execution_count": null,
   "metadata": {},
   "outputs": [],
   "source": [
    "from urllib.request import urlopen\n",
    "from urllib.parse import quote_plus\n",
    "from bs4 import BeautifulSoup\n",
    "from selenium import webdriver\n",
    "import time\n",
    "\n",
    "base_url = 'https://www.instagram.com/explore/tags/' \n",
    "plus_url = input('검색할 태그를 입력하세요 : ')\n",
    "url = base_url + quote_plus(plus_url) \n",
    "\n",
    "driver = webdriver.Chrome()\n",
    "driver.get(url)\n",
    "time.sleep(3)\n",
    "\n",
    "html = driver.page_source\n",
    "soup = BeautifulSoup(html)\n",
    "\n",
    "insta = soup.select('.v1Nh3.kIKUG._bz0w')\n",
    "#print(insta[0])\n",
    "n = 1\n",
    "for i in insta:\n",
    "    print(i.a['href'])    # print('https://www.instagram.com' + i.a['href'])\n",
    "    img_url = i.select_one('.KL4Bh').img['src']\n",
    "    print(img_url)\n",
    "    with urlopen(img_url) as f:\n",
    "        with open('./img/' + plus_url + str(n) + '.jpg', 'wb') as h:\n",
    "            img = f.read()\n",
    "            h.write(img)\n",
    "    n = n + 1        \n",
    "    \n",
    "driver.close()"
   ]
  }
 ],
 "metadata": {
  "kernelspec": {
   "display_name": "Python 3",
   "language": "python",
   "name": "python3"
  },
  "language_info": {
   "codemirror_mode": {
    "name": "ipython",
    "version": 3
   },
   "file_extension": ".py",
   "mimetype": "text/x-python",
   "name": "python",
   "nbconvert_exporter": "python",
   "pygments_lexer": "ipython3",
   "version": "3.7.6"
  }
 },
 "nbformat": 4,
 "nbformat_minor": 2
}
