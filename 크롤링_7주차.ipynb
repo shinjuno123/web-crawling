{
 "cells": [
  {
   "cell_type": "markdown",
   "metadata": {},
   "source": [
    "## 1. 셀레니움(Selenium)을 이용하여 네이버 이미지 크롤링 해보기(3주차 문제 개선)"
   ]
  },
  {
   "cell_type": "code",
   "execution_count": 24,
   "metadata": {},
   "outputs": [
    {
     "name": "stdout",
     "output_type": "stream",
     "text": [
      "연예인 이름을 입력하세요아이유\n",
      "['https://search.pstatic.net/common/?src=http%3A%2F%2Fpost.phinf.naver.net%2FMjAyMDA0MjdfMjQx%2FMDAxNTg3OTYzMjU1NzY3.oJzFFoQCNSFWyg_eTFNJ-LF2TEwLAeZ3mI_ziNiDjT0g.pXCP_cPOJsXq2LSA9TkTeCSIGETmwqaG25wb14t997Eg.JPEG%2FIJKH2fnpnJE5vrAkPArU4ucYoe-A.jpg&type=b400', 'https://search.pstatic.net/common/?src=http%3A%2F%2Fvideo.phinf.naver.net%2F20190405_191%2F1554435780335aVkzY_JPEG%2Fe48372e7-5754-11e9-a17c-505dac8c3607_10.jpg&type=b400', 'https://search.pstatic.net/common/?src=http%3A%2F%2Fimgnews.naver.net%2Fimage%2F5353%2F2019%2F08%2F11%2F0000563282_001_20190811230719686.jpg&type=b400', 'https://search.pstatic.net/common/?src=http%3A%2F%2Fcafefiles.naver.net%2FMjAyMDAzMDlfMTY3%2FMDAxNTgzNzUwNDMwMjg4.da6o1y4ao4Z44hV_FbsBxF9vlrS_6czjoyullaeIVwsg.kB-jbUI8zCy5eyWH5meFenHhlgEw3Yzu7mf9QpfSVqog.JPEG%2FexternalFile.jpg&type=b400', 'https://search.pstatic.net/common/?src=http%3A%2F%2Fblogfiles.naver.net%2FMjAyMDA1MjRfMjU1%2FMDAxNTkwMzExNDY0MjAw.ORCqrMcOfg-72_KJ7t8M1E_i3JlFT2rLTIKWK2ME7QMg.UJXr7tYUn2YP_dtP4Aw_Ecv_38tKy4FQn2TO15S2v50g.JPEG.kimarmy3333%2F1590311463990.jpg&type=b400', 'https://search.pstatic.net/common/?src=http%3A%2F%2Fblogfiles.naver.net%2FMjAyMDA0MDlfMjQ4%2FMDAxNTg2NDMyMjk0NjQy.g_On15h96s6k7STnnoY2-xjS9NNDOV7mlnrBJ5VxFBUg.Zj6-v2Z52f2Yg8D2pjTUd5zMe5vyjBeVGbY9NWVfuyYg.PNG.daizy96%2F%25BB%25F5%25BA%25AE-%25C0%25CC%25C1%25F6%25C0%25BA_%25283%2529.png&type=b400', 'https://search.pstatic.net/common/?src=http%3A%2F%2Fblogfiles.naver.net%2FMjAyMDA1MDdfMjUy%2FMDAxNTg4ODIwOTk4MjE4.qz2RUlz-vdEu1MUcMC7_W7qpA-6Vv-fD9Fd5b1nZdxYg.PkgfDTBBIrcHEnsbKuprGxT9S399oEMcgiCz6Dxt_VQg.JPEG.liejakka0712%2F1588820997961.jpg&type=b400', 'https://search.pstatic.net/common/?src=http%3A%2F%2Fblogfiles.naver.net%2FMjAxOTAzMTRfMTAz%2FMDAxNTUyNTM5NTczNTI3.JB3ps55Xi8bcl1iKWQKSlIaBueMTcK4hAwTRLqXRhsYg.Xw-qjvJ_ZDK_FydIYCn7pxjtEojrHodx2Lpkf8xd1zog.JPEG.lotteblog%2F%25BE%25C6%25C0%25CC%25C0%25AF_%25C6%25F7%25C5%25E4%25C4%25AB%25B5%25E53.jpg&type=b400', 'https://search.pstatic.net/common/?src=http%3A%2F%2Fpost.phinf.naver.net%2FMjAxOTA0MDlfMTM4%2FMDAxNTU0ODE3MTMzNTE3.EcK910IaHhXWFB52eYOu4UdLq69eqHx6DOb1AujuRqwg.ZajLXue2NG7TvHcPtiSnSEZFHX5qZEtNXa4FZczA5Rgg.JPEG%2FIVNNolHRJTb7z4CT1ztersshR684.jpg&type=b400', 'https://search.pstatic.net/common/?src=http%3A%2F%2Fblogfiles.naver.net%2FMjAyMDA0MDlfNzEg%2FMDAxNTg2NDMzMzc3MTc3.vTvcmeSAdvOFHOPpB6rflBSiziSOvHOgfBElwlk8ai0g.bwCjsoCsU-aCgzvL66RzhJk3zLTRjXTzXAHjTpFh9d8g.PNG.daizy96%2F%25BB%25F5%25BA%25AE-%25C0%25CC%25C1%25F6%25C0%25BA_%25285%2529.png&type=b400', 'https://search.pstatic.net/common/?src=http%3A%2F%2Fblogfiles.naver.net%2FMjAyMDA1MDdfMjkg%2FMDAxNTg4ODYyNjk0MjE5.OT58F2el57m0B2SB9gqnSKx5AZts6fZRvb9TC3DUb6og.7JuyT83YEcv5VlUjIOvZpKjnx87VQImYleW13y7jup0g.JPEG.dearmyday1234%2FIMG_1585.jpg&type=b400', 'https://search.pstatic.net/common/?src=http%3A%2F%2Fcafefiles.naver.net%2FMjAxNzAyMTJfMjk3%2FMDAxNDg2ODkwNDI3NDMx.K1wLOgwnviaBWVmAfAUt1c14On45RgyLL9IRZyB61UEg.12inelhXJpCpjkltoSoZJW6y4lLkhrtbuJIlHe2YvkYg.PNG.tjdrud6604%2F1874.png&type=b400', 'https://search.pstatic.net/common/?src=http%3A%2F%2Fpost.phinf.naver.net%2FMjAxOTA3MThfNzIg%2FMDAxNTYzNDE1NTgxNTcz.79efMtnPWkO_KWEAQfkqe33IAlMLH4u43rFzYtqc0Pog.JX-_HdtQ6XeMNBZIVH9hNApQkcNdoSjJWvQ0CtqXve0g.JPEG%2FIvUTd4nRqe-GOiSVppf2vzIfUZFY.jpg&type=b400', 'https://search.pstatic.net/common/?src=http%3A%2F%2Fcafefiles.naver.net%2FMjAyMDA1MTlfMTk0%2FMDAxNTg5ODk1MTgxODg3.iYz9AW1qVFIgbZ1L37hy8NNZcw482SSHAaUpJcFFkI0g.LwK9iPs99keIuJWC5ZM1O83hNr8kAg2kPKNIfP4aU1Yg.JPEG%2FexternalFile.jpg&type=b400', 'https://search.pstatic.net/common/?src=http%3A%2F%2Fblogfiles.naver.net%2F20151011_161%2Fbom2om_14445516107681vMJI_JPEG%2F%25BE%25C6%25C0%25CC%25C0%25AF_%25B9%25D9%25C5%25C1%25C8%25AD%25B8%25E9_03.jpg&type=b400', 'https://search.pstatic.net/common/?src=http%3A%2F%2Fpost.phinf.naver.net%2FMjAxODA5MTJfMTU0%2FMDAxNTM2NzIyNzA2OTAz.ZQIFr310JM6RFBlTH564p9Fyk-WyPODQLsVFXaXU62Ag.X7ZW3Xqh36ae-OEA0-Z5cW5heuJuNF72aVi1dguKuFgg.PNG%2FILJOALxIjvWv_OOZhaQWptx-MHa8.jpg&type=b400', 'https://search.pstatic.net/common/?src=http%3A%2F%2Fblogfiles.naver.net%2FMjAyMDA1MDhfMTAg%2FMDAxNTg4OTIyNjIyNTEx.rkw5T-G3IaXHzxIZIEuDqf4TuJN_fyxRYfLdDqGWKuYg.mqxiOEy7AIqMuawvt43rAgLQGTOrW8FnBMS7AnrIdqYg.PNG.daizy96%2F%25BB%25F5%25BA%25AE-%25C0%25CC%25C1%25F6%25C0%25BA_%25289%2529.png&type=b400', 'https://search.pstatic.net/common/?src=http%3A%2F%2Fblogfiles.naver.net%2FMjAxOTA4MjZfMjI0%2FMDAxNTY2ODE4MDQ4NzE5.LnJuF0mXIPJFVz-mrR2R2iO7QSSLYOiegNtXFN-xDnMg.dJYLcj_YlPyPUJ_QM7YyJKbK30OewLX5gWMQP-l2Wt0g.JPEG.we4227%2Foutput_2852293981.jpg&type=b400', 'https://search.pstatic.net/common/?src=http%3A%2F%2Fpost.phinf.naver.net%2FMjAxOTAxMjlfMTYz%2FMDAxNTQ4NzQzODE1NjMz.Qmz7c2MS3UKIqfBdlfop1fbIIfhcyR-0U7Qib5b4mzkg.NQdLbFfYldjJzjrinknwD0nHwF0oG8Y54y2MKNmcXcIg.JPEG%2FIANCsJLeQM1R_SiS1oEV51MCYLsQ.jpg&type=b400', 'https://search.pstatic.net/common/?src=http%3A%2F%2Fblogfiles.naver.net%2FMjAxOTEyMDZfNTgg%2FMDAxNTc1NjMzNTYyNTIz.HvBOiFNA2r954L1g1CQW79cDihiJSePgOtU2nR8Gml8g.InJjog7XBckUTu2Gs5246ZkcAmmUTpeW4w3AZuxhpJUg.JPEG.lee130101%2F%25BE%25C6%25C0%25CC%25C0%25AF%25C5%25A9%25B7%25D3%25B8%25DE%25C0%25CE%25C4%25C6_RGB-2%2528%25B7%25CE%25B0%25ED%2529.jpg&type=b400', 'https://search.pstatic.net/common/?src=http%3A%2F%2Fpost.phinf.naver.net%2FMjAyMDAzMTFfMTc0%2FMDAxNTgzOTIwNTg0NTg2.yxR8RgU2fnniAdzGqFXwbvN3aLlob48Y2iT3gegdScAg.OMKkJYlDcyMJuv9pESxVGnaAIQOUPL79B7J8OwcKlu8g.JPEG%2FI31YMFPlcfsAxFQlOmXY9VH_MV5E.jpg&type=b400', 'https://search.pstatic.net/common/?src=http%3A%2F%2Fblogfiles.naver.net%2FMjAyMDA0MDhfMTkg%2FMDAxNTg2MzM2Nzc2MTk3.6wK19GIDKCBfHyK_IBmFImSDM9T7q7fNoYC3xGQVXh4g.GxtgMNep_S5reuRW3rM3Nh80rrN6NX1_9GuGpkEUDt0g.JPEG.edgt9898%2F1586336775710.jpg&type=b400', 'https://search.pstatic.net/common/?src=http%3A%2F%2Fblogfiles.naver.net%2FMjAxOTExMTdfMTEx%2FMDAxNTczOTk4OTk4NjA0.fhtQBWZ3uaXAikDamoL2YLB5d-wgv-Kd8Bhj569sS44g.XMGtX_j-zbPBUf7yTcaFsPWLtisGCmd3jH6FrWvp4dog.JPEG.jywanna1%2F1045F603-BB85-4125-ABF8-551DECAB83E1.jpeg&type=b400', 'https://search.pstatic.net/common/?src=http%3A%2F%2Fblogfiles.naver.net%2FMjAyMDAyMjBfMjM3%2FMDAxNTgyMTc2NDAzMjkz.NRqatE_XOH-1Ym88sNJGsg0HMo05hA7YlEZBAQR_y9Ug.BB118iBPhPa7c8TomBHG413dO91xVoN-dRv1BSNzjQgg.JPEG.workroom_h%2Ftrans_%25286%2529.jpg&type=b400', 'https://search.pstatic.net/common/?src=http%3A%2F%2Fblogfiles.naver.net%2F20141003_296%2Fgk0059_1412344253707cEmDq_PNG%2F1.png&type=b400', 'https://search.pstatic.net/common/?src=http%3A%2F%2Fcafefiles.naver.net%2FMjAxODAxMzFfMjAw%2FMDAxNTE3NDEwNjU1OTM5.VHhhzj1GloWcrVMrb9HZYy9gXXhAcd5AuZ4xOkN8L7Ag.0GuVO0M86goPOg_z6LLFFdWlKv4e-BsrMztzjd3p6ogg.JPEG.narim6767%2FIMG_20180131_215146.jpg&type=b400', 'https://search.pstatic.net/common/?src=http%3A%2F%2Fblogfiles.naver.net%2F20150603_39%2Fkuailepangxi_1433331562571NyrSU_JPEG%2F2_%25DC%25F9%25DC%25E21.jpg&type=b400', 'https://search.pstatic.net/common/?src=http%3A%2F%2Fblogfiles.naver.net%2FMjAxOTA0MTVfMjI0%2FMDAxNTU1MzE4OTA3ODky.zRjGRRyx0CCMLuOs8oNBJMO8QNYD6qdtEFs0JmGy0cIg.33iVtEn9LTbA3wgDg6e602HL8tGkfb6qiWq9FV0yEFUg.JPEG.andu2001%2FIMG_20190414_232149_429.jpg&type=b400', 'https://search.pstatic.net/common/?src=http%3A%2F%2Fcafefiles.naver.net%2FMjAyMDA0MTNfMTY5%2FMDAxNTg2NzQzMTY0ODI5.jR8ZxbIrGXtKXTyxUG9A5T-Wt4miQvZ1vDe20Y2DGUgg.LPwq22hsvakqrhx4UHjj_vcYgev7ddKHg6RlL9oGDKog.JPEG%2Fdownloadfile-2.jpg&type=b400', 'https://search.pstatic.net/common/?src=http%3A%2F%2Fcafefiles.naver.net%2FMjAyMDA0MjNfMTE5%2FMDAxNTg3NjA1Mjc4NzI2.RhpVccunnSFf52_ZHGEpEaHbLrSVcLG-PpwsciomtcYg.Phle65kK9BRSy7cNOZFouNm9q1Tr78Rtfm4fgYN0bcUg.JPEG%2F%25BE%25C6%25C0%25CC%25C0%25AF_%25BB%25E7%25C1%25F82.jpg&type=b400', 'https://search.pstatic.net/common/?src=http%3A%2F%2Fblogfiles.naver.net%2FMjAyMDAzMDVfMTY5%2FMDAxNTgzMzM0NjAzOTg2.o9lDTvlZIgtDcL6yvAOtliBQ2rF6XNlI6VeRpLfHZcAg._WTwdxqwj0VdcG1k3Rck1Hx_B55AMhjjnDJvSnhP4Sgg.PNG.dbs2141%2FBEC6C0CCC0AF3.png&type=b400', 'https://search.pstatic.net/common/?src=http%3A%2F%2Fblogfiles.naver.net%2F20110714_152%2Fkhanslove_1310606208877GFUKL_JPEG%2F%25BE%25C6%25C0%25CC%25C0%25AF8_12801024.jpg&type=b400', 'https://search.pstatic.net/common/?src=http%3A%2F%2Fblogfiles.naver.net%2FMjAyMDA0MTRfODkg%2FMDAxNTg2ODU1NDE2NTM5.ZJBAHJotjbLhB1ESyPy2jUuuw6WZrKxSQTasCRx3tdMg.CSZWFearrdI7oCH3HvERSw3xmO8YSTkUmNvXrfuFcDog.PNG.daizy96%2F%25BB%25F5%25BA%25AE-%25C0%25CC%25C1%25F6%25C0%25BA_%25287%2529.png&type=b400', 'https://search.pstatic.net/common/?src=http%3A%2F%2Fblogfiles.naver.net%2FMjAyMDA1MTlfMjc2%2FMDAxNTg5ODg3MDE4MTQw.ymDJ6WRU8UHL51hMBav-G1lFSCGL6Zxo0tUUQSNXYbgg.mDde1rPJQAtVGRLXwi29Zwew0KV_RpybY5B_d2MK_Okg.JPEG.unchainyou%2F1589887017198.jpg&type=b400', 'https://search.pstatic.net/common/?src=http%3A%2F%2Fpost.phinf.naver.net%2FMjAyMDAyMjZfNjcg%2FMDAxNTgyNjgxNTk2MjUx.SNkHpyEEq2fP8ev-x6dCT0XYPyJSIksK3KGQxJwTFcwg.EaL-9Nyq80j4sX040IWJ_A7DnhXqj1oUPA2a_JyzR-0g.JPEG%2FIg6pXkQjPcCKOk1toyAyrvwR8S0c.jpg&type=b400', 'https://search.pstatic.net/common/?src=http%3A%2F%2Fblogfiles.naver.net%2F20121221_298%2Fgusdk300_1356062431028eTUmI_JPEG%2F301.jpg&type=b400', 'https://search.pstatic.net/common/?src=http%3A%2F%2Fcafefiles.naver.net%2FMjAxODEwMDNfMTM4%2FMDAxNTM4NTY4MTA4MzMz.yzDNvARMOqoIx_4rpXDBzVtamvWYq5hEs38alG1oUfUg.EpsEygT9c_2f5NIawSDCPaGIajZa3S-vaI9CBltVMbsg.JPEG.dkdldb1056%2F1538536750.jpeg&type=b400', 'https://search.pstatic.net/common/?src=http%3A%2F%2Fblogfiles.naver.net%2FMjAyMDA1MjBfMjYw%2FMDAxNTg5OTU4Nzg1Mzc2.wAhW9hGeghooHD4cXRZMkSW53qNVPcWzx6ZexPf7gzcg.WYFodtJ2uRjshFNCrx27QC2GbYQ_AQSPMfnLkGmFH0Qg.JPEG.lkp7606%2F%25BE%25C6%25C0%25CC%25C0%25AF.jpg&type=b400', 'https://search.pstatic.net/common/?src=http%3A%2F%2Fpost.phinf.naver.net%2FMjAyMDA0MTRfMjky%2FMDAxNTg2ODQxNjIzNzE0.796XdLNIg-liSesKpvPC3CclW59CD6J3LuO0NYz5QqIg.a00ACveCALYBDiVncW-oyJ_46KcZBZaAUtEvqe1jS70g.JPEG%2FIsUzOLKqbjwQCAQT821x8NR7Ap4E.jpg&type=b400', 'https://search.pstatic.net/common/?src=http%3A%2F%2Fblogfiles.naver.net%2F20160216_256%2Flnp5454_1455629540820hWG3j_PNG%2F%25BB%25D8_%25F1%25E9_%25BC%25B3%25B7%25BD_%25C6%25F7%25C5%25E4%25BC%25A5_%25BE%25C6%25C0%25CC%25C0%25AF_%25BA%25B8%25C1%25A4_2.png&type=b400', 'https://search.pstatic.net/common/?src=http%3A%2F%2Fblogfiles.naver.net%2FMjAxOTA0MzBfNDkg%2FMDAxNTU2NTg5MzQ5NDYw.D2oVi5mfyUBdl8l4usPzN2M377Gk6QRbUELUwx0IAQ8g.qjbO5xzbIfpIZkubkE8WRYOP2Z9ufUDJvQHu5GAXUCcg.JPEG.eunlog93%2FKakaoTalk_20190430_104311277_19.jpg&type=b400', 'https://search.pstatic.net/common/?src=http%3A%2F%2Fimgnews.naver.net%2Fimage%2F112%2F2019%2F12%2F20%2F201912200639576963975_20191220064013_02_20191220064102778.jpg&type=b400', 'https://search.pstatic.net/common/?src=http%3A%2F%2Fimgnews.naver.net%2Fimage%2F609%2F2019%2F12%2F20%2F201912200609352410_2_20191220062209581.jpg&type=b400', 'https://search.pstatic.net/common/?src=http%3A%2F%2Fimgnews.naver.net%2Fimage%2F112%2F2019%2F12%2F08%2F201912080759509317857_20191208080016_03_20191208080102245.jpg&type=b400', 'https://search.pstatic.net/common/?src=http%3A%2F%2Fimgnews.naver.net%2Fimage%2F609%2F2020%2F01%2F24%2F202001241403351110_5_20200124141015385.jpg&type=b400', 'https://search.pstatic.net/common/?src=http%3A%2F%2Fimgnews.naver.net%2Fimage%2F022%2F2020%2F03%2F20%2F20200320515539_20200320211804816.jpg&type=b400', 'https://search.pstatic.net/common/?src=http%3A%2F%2Fimgnews.naver.net%2Fimage%2F5235%2F2020%2F02%2F08%2F08_193959_20200208215216280.jpg&type=b400', 'https://search.pstatic.net/common/?src=http%3A%2F%2Fimgnews.naver.net%2Fimage%2F609%2F2020%2F02%2F20%2F202002201705368010_2_20200220171721729.jpg&type=b400', 'https://search.pstatic.net/common/?src=http%3A%2F%2Fvideo.phinf.naver.net%2F20190405_106%2F15544357794922BMFg_JPEG%2Fe48372e7-5754-11e9-a17c-505dac8c3607_05.jpg&type=b400', 'https://search.pstatic.net/common/?src=http%3A%2F%2Fblogfiles.naver.net%2F20151011_52%2Fbom2om_1444551610950asUTs_JPEG%2F%25BE%25C6%25C0%25CC%25C0%25AF_%25B9%25D9%25C5%25C1%25C8%25AD%25B8%25E9_04.jpg&type=b400']\n"
     ]
    }
   ],
   "source": [
    "from selenium import webdriver\n",
    "from urllib.parse import quote_plus\n",
    "import time\n",
    "\n",
    "browser = webdriver.Chrome('./chromedriver.exe')\n",
    "browser.implicitly_wait(30)\n",
    "\n",
    "#https://search.naver.com/search.naver?where=image&sm=tab_jum&query=%EC%95%84%EC%9D%B4%EC%9C%A0\n",
    "base_url = 'https://search.naver.com/search.naver?where=image&sm=tab_jum&query='\n",
    "plus_url = input('연예인 이름을 입력하세요')\n",
    "url = base_url + quote_plus(plus_url)\n",
    "browser.get(url)\n",
    "\n",
    "imgs = browser.find_elements_by_css_selector('img._img')\n",
    "results = []\n",
    "for img in imgs:\n",
    "    link = img.get_attribute('src')\n",
    "    results.append(link)    \n",
    "print(results)    \n",
    "browser.close()    \n",
    "\n",
    "import os \n",
    "if not os.path.isdir('./img/{}'.format(plus_url)):\n",
    "    os.mkdir('./img/{}'.format(plus_url))\n",
    "    \n",
    "from urllib.request import urlretrieve\n",
    "    \n",
    "for index, link in enumerate(results):\n",
    "    start = link.rfind('.')\n",
    "    end = link.rfind('&')\n",
    "    f_type = link[start:end]  # ftyp은 .jpg 또는 .png    \n",
    "    \n",
    "    urlretrieve(link, './img/{}/{}{}{}'.format(plus_url, plus_url, index, f_type))\n"
   ]
  },
  {
   "cell_type": "markdown",
   "metadata": {},
   "source": [
    "## 2. 셀레니움(Selenium)을 이용하여 네이버 이미지 여러 페이지 크롤링 해보기\n"
   ]
  },
  {
   "cell_type": "code",
   "execution_count": 35,
   "metadata": {},
   "outputs": [
    {
     "name": "stdout",
     "output_type": "stream",
     "text": [
      "연예인 이름을 입력하세요 ? 아이유\n"
     ]
    }
   ],
   "source": [
    "from selenium import webdriver\n",
    "from selenium.webdriver.common.keys import Keys \n",
    "from urllib.parse import quote_plus\n",
    "import time\n",
    "\n",
    "browser = webdriver.Chrome('./chromedriver.exe')\n",
    "browser.implicitly_wait(30)\n",
    "\n",
    "base_url = 'https://search.naver.com/search.naver?where=image&sm=tab_jum&query='\n",
    "plus_url = input('연예인 이름을 입력하세요 ? ')\n",
    "url = base_url + quote_plus(plus_url)\n",
    "\n",
    "browser.get(url)\n",
    "########################\n",
    "body = browser.find_element_by_css_selector('body')\n",
    "for i in range(3):\n",
    "    body.send_keys(Keys.PAGE_DOWN)\n",
    "    time.sleep(1)\n",
    "########################\n",
    "\n",
    "imgs = browser.find_elements_by_css_selector('img._img')\n",
    "results = []\n",
    "for img in imgs:\n",
    "    link = img.get_attribute('src')\n",
    "    results.append(link)\n",
    "\n",
    "browser.close()  \n",
    "\n",
    "import os \n",
    "if not os.path.isdir('./img/{}'.format(plus_url)):\n",
    "    os.mkdir('./img/{}'.format(plus_url))\n",
    "    \n",
    "from urllib.request import urlretrieve\n",
    "    \n",
    "for index, link in enumerate(results):\n",
    "    start = link.rfind('.')\n",
    "    end = link.rfind('&')\n",
    "    f_type = link[start:end]  # ftyp은 .jpg 또는 .png    \n",
    "    \n",
    "    urlretrieve(link, './img/{}/{}{}{}'.format(plus_url, plus_url, index, f_type))\n",
    "    \n",
    "########################\n",
    "import zipfile\n",
    "z_file = zipfile.ZipFile('./img/{}.zip'.format(plus_url),'w')\n",
    "\n",
    "for img in os.listdir('./img/{}'.format(plus_url)):\n",
    "    z_file.write('./img/{}/{}'.format(plus_url, img), compress_type=zipfile.ZIP_DEFLATED)\n",
    "z_file.close()\n",
    "########################    \n",
    "\n",
    "# 꼮 만들어 보세요\n",
    "# selenium을 이용하여 압축된 화일을 친구에게 메일로 보내주기 "
   ]
  },
  {
   "cell_type": "markdown",
   "metadata": {},
   "source": [
    "## 3. 셀레니움(Selenium)을 이용한 간단한 로그인"
   ]
  },
  {
   "cell_type": "code",
   "execution_count": 5,
   "metadata": {},
   "outputs": [],
   "source": [
    "from selenium import webdriver\n",
    "from selenium.webdriver.common.keys import Keys\n",
    "import time\n",
    "\n",
    "driver = webdriver.Chrome()\n",
    "url = 'https://nid.naver.com/nidlogin.login?'\n",
    "driver.get(url)\n",
    "\n",
    "driver.find_element_by_name('id').send_keys('uuterran@naver.com')\n",
    "time.sleep(1)\n",
    "driver.find_element_by_name('pw').send_keys('패스워드')\n",
    "time.sleep(1)\n",
    "\n",
    "driver.find_element_by_css_selector('.btn_global').click()\n"
   ]
  },
  {
   "cell_type": "markdown",
   "metadata": {},
   "source": [
    "## 4. 기타 필요한 크롤링 기술\n",
    "- Open API 사용법 및 Open API를 이용한 크롤링(예:정부 공공기관 데이타)\n",
    "- 크롤링을 위한 XML 포맷과 JSON  포맷 이해하기\n",
    "- 크롤링을 위한 고급 문자열 처리 기술(정규표현식)\n"
   ]
  }
 ],
 "metadata": {
  "kernelspec": {
   "display_name": "Python 3",
   "language": "python",
   "name": "python3"
  },
  "language_info": {
   "codemirror_mode": {
    "name": "ipython",
    "version": 3
   },
   "file_extension": ".py",
   "mimetype": "text/x-python",
   "name": "python",
   "nbconvert_exporter": "python",
   "pygments_lexer": "ipython3",
   "version": "3.7.6"
  }
 },
 "nbformat": 4,
 "nbformat_minor": 2
}
