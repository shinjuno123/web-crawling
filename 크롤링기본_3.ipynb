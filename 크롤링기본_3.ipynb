{
 "cells": [
  {
   "cell_type": "markdown",
   "metadata": {},
   "source": [
    "## 1.CSS selector 사용해보기"
   ]
  },
  {
   "cell_type": "code",
   "execution_count": 78,
   "metadata": {},
   "outputs": [
    {
     "name": "stdout",
     "output_type": "stream",
     "text": [
      "고재원 기자\n",
      "입력 2020.05.04. 11:57\n",
      "고재원 기자\n"
     ]
    }
   ],
   "source": [
    "import requests\n",
    "from bs4 import BeautifulSoup\n",
    "\n",
    "\n",
    "page = requests.get('https://news.v.daum.net/v/20200504115741459')\n",
    "soup = BeautifulSoup(page.content,'html.parser')\n",
    "\n",
    "#titles = soup.select('h3') #select() 함수는 결과물 리스트로 반환한다.\n",
    "#print(titles)\n",
    "#for title in titles :\n",
    "#    print(title.get_text())\n",
    "\n",
    "#datas = soup.select('h3.tit_view')    \n",
    "#for data in datas:\n",
    "#    print(data.get_text())\n",
    "\n",
    "#datas = soup.select('.tit_view')\n",
    "#for data in datas:\n",
    "#    print(data.get_text())\n",
    "    \n",
    "#datas = soup.select('html head title')\n",
    "#print(datas)\n",
    "#for data in datas:\n",
    "#    print(data.get_text())    \n",
    "\n",
    "#datas = soup.select('div>section>p')\n",
    "#print(datas)\n",
    "#print(datas[0].get_text())\n",
    "#for data in datas:\n",
    "#print(data.get_text())\n",
    "\n",
    "\n",
    "datas = soup.select('div>div>span.info_view>span.txt_info')\n",
    "for data in datas:\n",
    "    print(data.get_text())\n",
    "    \n",
    "print(datas[0].get_text())    \n"
   ]
  },
  {
   "cell_type": "markdown",
   "metadata": {},
   "source": [
    "## 2. 웹크롤링 리팩토링(크롤링 할 때 동일한 코드를 반복해서 사용하는 방법)"
   ]
  },
  {
   "cell_type": "code",
   "execution_count": 87,
   "metadata": {
    "scrolled": true
   },
   "outputs": [
    {
     "name": "stdout",
     "output_type": "stream",
     "text": [
      "검색어를 입력하세요 : 자바\n",
      "자바학원 회사생활에도 큰 도움 됐어요\n",
      "https://blog.naver.com/mylove122007?Redirect=Log&logNo=221933134462\n",
      "\n",
      "자바 VS 자바스크립트, 엄연히 다르다? (차이점, 핵심 기능 비교) - Wishket\n",
      "http://blog.wishket.com/%EC%9E%90%EB%B0%94-vs-%EC%9E%90%EB%B0%94%EC%8A%A4%ED%81%AC%EB%A6%BD%ED%8A%B8-%EC%B0%A8%EC%9D%B4%EC%A0%90-%ED%95%B5%EC%8B%AC%EA%B8%B0%EB%8A%A5/\n",
      "\n",
      "엔제리너스 반미 샌드위치와 자바초코칩프라페\n",
      "https://blog.naver.com/flyingchichi?Redirect=Log&logNo=221930918526\n",
      "\n"
     ]
    }
   ],
   "source": [
    "import requests\n",
    "from bs4 import BeautifulSoup\n",
    "import urllib.parse #한글로 된 질의를 인코딩하기 위해 quote_plus() 함수를 이용한다.\n",
    "\n",
    "#https://search.naver.com/search.naver?sm=tab_hty.top&where=nexearch&query=%ED%8C%8C%EC%9D%B4%EC%8D%AC&oquery=%EC%9E%90%EB%B0%94&tqi=Urs1alp0JXossKZ7zKossssstSo-270270\n",
    "#파이썬주소\n",
    "#https://search.naver.com/search.naver?sm=tab_hty.top&where=nexearch&query=%EC%9E%90%EB%B0%94&oquery=%ED%8C%8C%EC%9D%B4%EC%8D%AC&tqi=Urs1Dwp0Yihssg%2B8lU0ssssstY0-232065\n",
    "#자바주소\n",
    "\n",
    "base_url = 'https://search.naver.com/search.naver?sm=tab_hty.top&where=nexearch&query='\n",
    "plus_url = input('검색어를 입력하세요 : ')\n",
    "url = base_url + urllib.parse.quote_plus(plus_url)\n",
    "\n",
    "page = requests.get(url)\n",
    "soup = BeautifulSoup(page.content,'html.parser')\n",
    "\n",
    "title = soup.find_all('a',class_=\"sh_blog_title\")\n",
    "#print(len(title))\n",
    "\n",
    "for data in title:\n",
    "    print(data['title'])\n",
    "    print(data['href'])\n",
    "    print()"
   ]
  },
  {
   "cell_type": "markdown",
   "metadata": {},
   "source": [
    "## 3.네이버 이미지 검색 결과 한번에 다운로드 받기"
   ]
  },
  {
   "cell_type": "code",
   "execution_count": 97,
   "metadata": {},
   "outputs": [
    {
     "name": "stdout",
     "output_type": "stream",
     "text": [
      "검색어를 입력하세요 : 피카츄\n",
      "50\n",
      "<img alt=\"마스코트로서의 진화, 피카츄 | 포스트\" class=\"_img\" data-height=\"333\" data-source=\"https://search.pstatic.net/common/?src=http%3A%2F%2Fpost.phinf.naver.net%2F20160412_74%2F14604263658047Fk8R_PNG%2FI33jUJKLmYL7PQo4rUjP4YN6OX40.jpg&amp;type=b400\" data-width=\"374\" onerror=\"var we=$Element(this); we.addClass('bg_nimg'); we.attr('alt','이미지준비중'); we.attr('src','data:image/gif;base64,R0lGODlhAQABAIAAAAAAAP///yH5BAEAAAAALAAAAAABAAEAAAIBRAA7');\" src=\"data:image/gif;base64,R0lGODlhAQABAIAAAAAAAP///yH5BAEAAAAALAAAAAABAAEAAAIBRAA7\"/>\n"
     ]
    }
   ],
   "source": [
    "import requests\n",
    "from bs4 import BeautifulSoup\n",
    "from urllib.parse import quote_plus\n",
    "from urllib.request import urlopen # urlopen(url) 함수는 url에 지정되어 있는 파일을 오픈하는 함수\n",
    "\n",
    "#https://search.naver.com/search.naver?sm=tab_hty.top&where=image&query=%EC%98%81%ED%99%94&oquery=%EC%97%B0%EC%95%A0%EC%9D%B8&tqi=UrsHdwp0J1Zsst6wb8Nssssss9N-212403\n",
    "#영화\n",
    "#https://search.naver.com/search.naver?sm=tab_hty.top&where=image&query=%EC%97%B0%EC%98%88%EC%9D%B8&oquery=%EC%98%81%ED%99%94&tqi=UrsHfdp0JXoss78KiUNssssstkN-165291\n",
    "#연예인\n",
    "\n",
    "\n",
    "base_url = 'https://search.naver.com/search.naver?sm=tab_hty.top&where=image&query='\n",
    "plus_url = input(\"검색어를 입력하세요 : \")\n",
    "url = base_url + quote_plus(plus_url)\n",
    "\n",
    "page = requests.get(url)\n",
    "soup = BeautifulSoup(page.content,'html.parser')\n",
    "\n",
    "\n",
    "data_imgs = soup.find_all(class_ = '_img')\n",
    "print(len(data_imgs))\n",
    "print(data_imgs[0])\n",
    "\n",
    "n = 1\n",
    "for data in data_imgs:\n",
    "    img_url = data[\"data-source\"]    \n",
    "    with urlopen(img_url) as rf:\n",
    "        with open('./img/' + plus_url + str(n) + '.jpg','wb')as wf : # wb 쓰기속성 wf write file\n",
    "            img = rf.read()\n",
    "            wf.write(img)\n",
    "    n = n + 1"
   ]
  }
 ],
 "metadata": {
  "kernelspec": {
   "display_name": "Python 3",
   "language": "python",
   "name": "python3"
  },
  "language_info": {
   "codemirror_mode": {
    "name": "ipython",
    "version": 3
   },
   "file_extension": ".py",
   "mimetype": "text/x-python",
   "name": "python",
   "nbconvert_exporter": "python",
   "pygments_lexer": "ipython3",
   "version": "3.7.6"
  }
 },
 "nbformat": 4,
 "nbformat_minor": 4
}
